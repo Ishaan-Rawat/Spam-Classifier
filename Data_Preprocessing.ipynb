{
 "cells": [
  {
   "cell_type": "markdown",
   "metadata": {
    "_cell_guid": "79c7e3d0-c299-4dcb-8224-4455121ee9b0",
    "_uuid": "d629ff2d2480ee46fbb7e2d37f6b5fab8052498a",
    "collapsed": true
   },
   "source": [
    "## Notebook Imports"
   ]
  },
  {
   "cell_type": "code",
   "execution_count": 1,
   "metadata": {},
   "outputs": [],
   "source": [
    "from os import walk\n",
    "from os.path import join\n",
    "\n",
    "import pandas as pd\n",
    "import matplotlib.pyplot as plt\n",
    "import numpy as np\n",
    "\n",
    "import nltk\n",
    "from nltk.stem import PorterStemmer\n",
    "from nltk.stem import SnowballStemmer\n",
    "from nltk.corpus import stopwords\n",
    "from nltk.tokenize import word_tokenize\n",
    "\n",
    "from bs4 import BeautifulSoup\n",
    "from wordcloud import WordCloud\n",
    "from PIL import Image\n",
    "\n",
    "from sklearn.model_selection import train_test_split\n",
    "\n",
    "%matplotlib inline"
   ]
  },
  {
   "cell_type": "markdown",
   "metadata": {},
   "source": [
    "## Constants"
   ]
  },
  {
   "cell_type": "code",
   "execution_count": 2,
   "metadata": {},
   "outputs": [],
   "source": [
    "EXAMPLE_FILE = 'SpamData/01_Processing/practice_email.txt'\n",
    "\n",
    "SPAM_1_PATH = 'SpamData/01_Processing/spam_assassin_corpus/spam_1'\n",
    "SPAM_2_PATH = 'SpamData/01_Processing/spam_assassin_corpus/spam_2'\n",
    "EASY_NONSPAM_1_PATH = 'SpamData/01_Processing/spam_assassin_corpus/easy_ham_1'\n",
    "EASY_NONSPAM_2_PATH = 'SpamData/01_Processing/spam_assassin_corpus/easy_ham_2'\n",
    "\n",
    "SPAM_CAT = 1\n",
    "HAM_CAT = 0\n",
    "VOCAB_SIZE = 2500\n",
    "\n",
    "DATA_JSON_FILE = 'SpamData/01_Processing/email-text-data.json'\n",
    "WORD_ID_FILE = 'SpamData/01_Processing/word-by-id.csv'\n",
    "\n",
    "TRAINING_DATA_FILE = 'SpamData/02_Training/train-data.txt'\n",
    "TEST_DATA_FILE = 'SpamData/02_Training/test-data.txt'\n",
    "\n",
    "THUMBS_UP_FILE = 'SpamData/01_Processing/wordcloud_resources/thumbs-up.png'\n",
    "THUMBS_DOWN_FILE = 'SpamData/01_Processing/wordcloud_resources/thumbs-down.png'\n",
    "CUSTOM_FONT_FILE = 'SpamData/01_Processing/wordcloud_resources/OpenSansCondensed-Bold.ttf'"
   ]
  },
  {
   "cell_type": "markdown",
   "metadata": {},
   "source": [
    "## Reading Files"
   ]
  },
  {
   "cell_type": "code",
   "execution_count": 3,
   "metadata": {},
   "outputs": [
    {
     "name": "stdout",
     "output_type": "stream",
     "text": [
      "<class 'str'>\n",
      "From exmh-workers-admin@redhat.com  Thu Aug 22 12:36:23 2002\n",
      "Return-Path: <exmh-workers-admin@spamassassin.taint.org>\n",
      "Delivered-To: zzzz@localhost.netnoteinc.com\n",
      "Received: from localhost (localhost [127.0.0.1])\n",
      "\tby phobos.labs.netnoteinc.com (Postfix) with ESMTP id D03E543C36\n",
      "\tfor <zzzz@localhost>; Thu, 22 Aug 2002 07:36:16 -0400 (EDT)\n",
      "Received: from phobos [127.0.0.1]\n",
      "\tby localhost with IMAP (fetchmail-5.9.0)\n",
      "\tfor zzzz@localhost (single-drop); Thu, 22 Aug 2002 12:36:16 +0100 (IST)\n",
      "Received: from listman.spamassassin.taint.org (listman.spamassassin.taint.org [66.187.233.211]) by\n",
      "    dogma.slashnull.org (8.11.6/8.11.6) with ESMTP id g7MBYrZ04811 for\n",
      "    <zzzz-exmh@spamassassin.taint.org>; Thu, 22 Aug 2002 12:34:53 +0100\n",
      "Received: from listman.spamassassin.taint.org (localhost.localdomain [127.0.0.1]) by\n",
      "    listman.redhat.com (Postfix) with ESMTP id 8386540858; Thu, 22 Aug 2002\n",
      "    07:35:02 -0400 (EDT)\n",
      "Delivered-To: exmh-workers@listman.spamassassin.taint.org\n",
      "Received: from int-mx1.corp.spamassassin.taint.org (int-mx1.corp.spamassassin.taint.org\n",
      "    [172.16.52.254]) by listman.redhat.com (Postfix) with ESMTP id 10CF8406D7\n",
      "    for <exmh-workers@listman.redhat.com>; Thu, 22 Aug 2002 07:34:10 -0400\n",
      "    (EDT)\n",
      "Received: (from mail@localhost) by int-mx1.corp.spamassassin.taint.org (8.11.6/8.11.6)\n",
      "    id g7MBY7g11259 for exmh-workers@listman.redhat.com; Thu, 22 Aug 2002\n",
      "    07:34:07 -0400\n",
      "Received: from mx1.spamassassin.taint.org (mx1.spamassassin.taint.org [172.16.48.31]) by\n",
      "    int-mx1.corp.redhat.com (8.11.6/8.11.6) with SMTP id g7MBY7Y11255 for\n",
      "    <exmh-workers@redhat.com>; Thu, 22 Aug 2002 07:34:07 -0400\n",
      "Received: from ratree.psu.ac.th ([202.28.97.6]) by mx1.spamassassin.taint.org\n",
      "    (8.11.6/8.11.6) with SMTP id g7MBIhl25223 for <exmh-workers@redhat.com>;\n",
      "    Thu, 22 Aug 2002 07:18:55 -0400\n",
      "Received: from delta.cs.mu.OZ.AU (delta.coe.psu.ac.th [172.30.0.98]) by\n",
      "    ratree.psu.ac.th (8.11.6/8.11.6) with ESMTP id g7MBWel29762;\n",
      "    Thu, 22 Aug 2002 18:32:40 +0700 (ICT)\n",
      "Received: from munnari.OZ.AU (localhost [127.0.0.1]) by delta.cs.mu.OZ.AU\n",
      "    (8.11.6/8.11.6) with ESMTP id g7MBQPW13260; Thu, 22 Aug 2002 18:26:25\n",
      "    +0700 (ICT)\n",
      "From: Robert Elz <kre@munnari.OZ.AU>\n",
      "To: Chris Garrigues <cwg-dated-1030377287.06fa6d@DeepEddy.Com>\n",
      "Cc: exmh-workers@spamassassin.taint.org\n",
      "Subject: Re: New Sequences Window\n",
      "In-Reply-To: <1029945287.4797.TMDA@deepeddy.vircio.com>\n",
      "References: <1029945287.4797.TMDA@deepeddy.vircio.com>\n",
      "    <1029882468.3116.TMDA@deepeddy.vircio.com> <9627.1029933001@munnari.OZ.AU>\n",
      "    <1029943066.26919.TMDA@deepeddy.vircio.com>\n",
      "    <1029944441.398.TMDA@deepeddy.vircio.com>\n",
      "MIME-Version: 1.0\n",
      "Content-Type: text/plain; charset=us-ascii\n",
      "Message-Id: <13258.1030015585@munnari.OZ.AU>\n",
      "X-Loop: exmh-workers@spamassassin.taint.org\n",
      "Sender: exmh-workers-admin@spamassassin.taint.org\n",
      "Errors-To: exmh-workers-admin@spamassassin.taint.org\n",
      "X-Beenthere: exmh-workers@spamassassin.taint.org\n",
      "X-Mailman-Version: 2.0.1\n",
      "Precedence: bulk\n",
      "List-Help: <mailto:exmh-workers-request@spamassassin.taint.org?subject=help>\n",
      "List-Post: <mailto:exmh-workers@spamassassin.taint.org>\n",
      "List-Subscribe: <https://listman.spamassassin.taint.org/mailman/listinfo/exmh-workers>,\n",
      "    <mailto:exmh-workers-request@redhat.com?subject=subscribe>\n",
      "List-Id: Discussion list for EXMH developers <exmh-workers.spamassassin.taint.org>\n",
      "List-Unsubscribe: <https://listman.spamassassin.taint.org/mailman/listinfo/exmh-workers>,\n",
      "    <mailto:exmh-workers-request@redhat.com?subject=unsubscribe>\n",
      "List-Archive: <https://listman.spamassassin.taint.org/mailman/private/exmh-workers/>\n",
      "Date: Thu, 22 Aug 2002 18:26:25 +0700\n",
      "\n",
      "\n",
      "Dear Mr Still\n",
      "\n",
      "Good tidings to you and all your staff for the festive season ahead (Christmas).\n",
      "Now to the crux of the matter-in-hand: I am a fully qualified Santa Claus and am wondering whether you might consider me to run my own \"Santa's Grotto\" in your store.\n",
      "But WAIT! You're probably thinking: \"What makes him so special?\"\n",
      "Well, first of all, I have made several changes to the characterisation of Father Christmas. Rather than greeting the children with shouts of \"Ho, ho, ho!\" I prefer to whisper the phrase \"Dependence is not unfathomable in this cruel world we live in\". In addition, my gifts are ALL hand-made, ranging from felt hoops to vanilla-pod holders.\n",
      "You will note also, from the enclosed sketch, that I have radically redesigned Santa's outfit and have renamed my character \"Lord Buckles\". Would you be interested in employing me? I promise NEVER to let you down.\n",
      "I look forward to hearing from you.\n",
      "\n",
      "Best wishes\n",
      "Robin Cooper\n",
      "[Excerpt from the book: The Timewaster Letters by Robin Cooper]\n",
      "\n"
     ]
    }
   ],
   "source": [
    "stream = open(EXAMPLE_FILE, encoding='latin-1')\n",
    "message = stream.read()\n",
    "stream.close()\n",
    "\n",
    "print(type(message))\n",
    "print(message)"
   ]
  },
  {
   "cell_type": "code",
   "execution_count": 4,
   "metadata": {},
   "outputs": [
    {
     "name": "stdout",
     "output_type": "stream",
     "text": [
      "\n",
      "\n",
      "Dear Mr Still\n",
      "\n",
      "\n",
      "\n",
      "Good tidings to you and all your staff for the festive season ahead (Christmas).\n",
      "\n",
      "Now to the crux of the matter-in-hand: I am a fully qualified Santa Claus and am wondering whether you might consider me to run my own \"Santa's Grotto\" in your store.\n",
      "\n",
      "But WAIT! You're probably thinking: \"What makes him so special?\"\n",
      "\n",
      "Well, first of all, I have made several changes to the characterisation of Father Christmas. Rather than greeting the children with shouts of \"Ho, ho, ho!\" I prefer to whisper the phrase \"Dependence is not unfathomable in this cruel world we live in\". In addition, my gifts are ALL hand-made, ranging from felt hoops to vanilla-pod holders.\n",
      "\n",
      "You will note also, from the enclosed sketch, that I have radically redesigned Santa's outfit and have renamed my character \"Lord Buckles\". Would you be interested in employing me? I promise NEVER to let you down.\n",
      "\n",
      "I look forward to hearing from you.\n",
      "\n",
      "\n",
      "\n",
      "Best wishes\n",
      "\n",
      "Robin Cooper\n",
      "\n",
      "[Excerpt from the book: The Timewaster Letters by Robin Cooper]\n",
      "\n"
     ]
    }
   ],
   "source": [
    "stream = open(EXAMPLE_FILE, encoding='latin-1')\n",
    "\n",
    "is_body = False\n",
    "lines = []\n",
    "\n",
    "for line in stream:\n",
    "    if is_body:\n",
    "        lines.append(line)\n",
    "    elif line == '\\n':\n",
    "        is_body = True\n",
    "        \n",
    "stream.close()\n",
    "email_body = '\\n'.join(lines)\n",
    "print(email_body)"
   ]
  },
  {
   "cell_type": "markdown",
   "metadata": {},
   "source": [
    "## Email body extraction"
   ]
  },
  {
   "cell_type": "code",
   "execution_count": 5,
   "metadata": {},
   "outputs": [],
   "source": [
    "def email_body_generator(path):\n",
    "    \n",
    "    for root,dirnames, filenames in walk(path):\n",
    "        for file_name in filenames:\n",
    "            \n",
    "            filepath = join(root,file_name)\n",
    "            stream = open(filepath, encoding='latin-1')\n",
    "            \n",
    "            is_body = False\n",
    "            lines = []\n",
    "            \n",
    "            for line in stream:\n",
    "                if is_body:\n",
    "                    lines.append(line)\n",
    "                elif line =='\\n':\n",
    "                    is_body = True\n",
    "                    \n",
    "            stream.close()\n",
    "            email_body = '\\n'.join(lines)\n",
    "            yield file_name, email_body"
   ]
  },
  {
   "cell_type": "code",
   "execution_count": 6,
   "metadata": {},
   "outputs": [],
   "source": [
    "def df_from_directory(path, classification):\n",
    "    rows = []\n",
    "    row_names = []\n",
    "    \n",
    "    for file_name, email_body in email_body_generator(path):\n",
    "        rows.append({'MESSAGE' : email_body, 'CATEGORY': classification})\n",
    "        row_names.append(file_name)\n",
    "        \n",
    "    return pd.DataFrame(rows, index=row_names)"
   ]
  },
  {
   "cell_type": "code",
   "execution_count": 7,
   "metadata": {},
   "outputs": [
    {
     "data": {
      "text/html": [
       "<div>\n",
       "<style scoped>\n",
       "    .dataframe tbody tr th:only-of-type {\n",
       "        vertical-align: middle;\n",
       "    }\n",
       "\n",
       "    .dataframe tbody tr th {\n",
       "        vertical-align: top;\n",
       "    }\n",
       "\n",
       "    .dataframe thead th {\n",
       "        text-align: right;\n",
       "    }\n",
       "</style>\n",
       "<table border=\"1\" class=\"dataframe\">\n",
       "  <thead>\n",
       "    <tr style=\"text-align: right;\">\n",
       "      <th></th>\n",
       "      <th>CATEGORY</th>\n",
       "      <th>MESSAGE</th>\n",
       "    </tr>\n",
       "  </thead>\n",
       "  <tbody>\n",
       "    <tr>\n",
       "      <th>00234.6b386bd178f4ae52c67b6c6d15ece489</th>\n",
       "      <td>1</td>\n",
       "      <td>REQUEST FOR URGENT BUSINESS ASSISTANCE\\n\\n---...</td>\n",
       "    </tr>\n",
       "    <tr>\n",
       "      <th>00150.f97c73fa56460a6afc6d9418ad76b5b5</th>\n",
       "      <td>1</td>\n",
       "      <td>This is a multi-part message in MIME format.\\n...</td>\n",
       "    </tr>\n",
       "    <tr>\n",
       "      <th>00282.0e230e05877f40a522bfb93aa3e314f3</th>\n",
       "      <td>1</td>\n",
       "      <td>&lt;html&gt;\\n\\n&lt;head&gt;\\n\\n&lt;/head&gt;\\n\\n&lt;center&gt;\\n\\n&lt;h1...</td>\n",
       "    </tr>\n",
       "    <tr>\n",
       "      <th>00457.f8db516c753eff2c82cfb89b33bd2620</th>\n",
       "      <td>1</td>\n",
       "      <td>&lt;HTML&gt;\\n\\n&lt;HEAD&gt;\\n\\n&lt;/HEAD&gt;\\n\\n&lt;BODY&gt;\\n\\nVIAGR...</td>\n",
       "    </tr>\n",
       "    <tr>\n",
       "      <th>00368.2c1ab4bc7f408e0fcb22dca9b2d5a113</th>\n",
       "      <td>1</td>\n",
       "      <td>&lt;!DOCTYPE HTML PUBLIC \"-//W3C//DTD HTML 3.2//E...</td>\n",
       "    </tr>\n",
       "  </tbody>\n",
       "</table>\n",
       "</div>"
      ],
      "text/plain": [
       "                                        CATEGORY  \\\n",
       "00234.6b386bd178f4ae52c67b6c6d15ece489         1   \n",
       "00150.f97c73fa56460a6afc6d9418ad76b5b5         1   \n",
       "00282.0e230e05877f40a522bfb93aa3e314f3         1   \n",
       "00457.f8db516c753eff2c82cfb89b33bd2620         1   \n",
       "00368.2c1ab4bc7f408e0fcb22dca9b2d5a113         1   \n",
       "\n",
       "                                                                                  MESSAGE  \n",
       "00234.6b386bd178f4ae52c67b6c6d15ece489   REQUEST FOR URGENT BUSINESS ASSISTANCE\\n\\n---...  \n",
       "00150.f97c73fa56460a6afc6d9418ad76b5b5  This is a multi-part message in MIME format.\\n...  \n",
       "00282.0e230e05877f40a522bfb93aa3e314f3  <html>\\n\\n<head>\\n\\n</head>\\n\\n<center>\\n\\n<h1...  \n",
       "00457.f8db516c753eff2c82cfb89b33bd2620  <HTML>\\n\\n<HEAD>\\n\\n</HEAD>\\n\\n<BODY>\\n\\nVIAGR...  \n",
       "00368.2c1ab4bc7f408e0fcb22dca9b2d5a113  <!DOCTYPE HTML PUBLIC \"-//W3C//DTD HTML 3.2//E...  "
      ]
     },
     "execution_count": 7,
     "metadata": {},
     "output_type": "execute_result"
    }
   ],
   "source": [
    "spam_emails = df_from_directory(SPAM_1_PATH,SPAM_CAT)\n",
    "spam_emails = spam_emails.append(df_from_directory(SPAM_2_PATH,SPAM_CAT))\n",
    "spam_emails.head()"
   ]
  },
  {
   "cell_type": "code",
   "execution_count": 8,
   "metadata": {},
   "outputs": [
    {
     "data": {
      "text/plain": [
       "(1898, 2)"
      ]
     },
     "execution_count": 8,
     "metadata": {},
     "output_type": "execute_result"
    }
   ],
   "source": [
    "spam_emails.shape"
   ]
  },
  {
   "cell_type": "code",
   "execution_count": 9,
   "metadata": {},
   "outputs": [
    {
     "data": {
      "text/plain": [
       "(3901, 2)"
      ]
     },
     "execution_count": 9,
     "metadata": {},
     "output_type": "execute_result"
    }
   ],
   "source": [
    "ham_emails = df_from_directory(EASY_NONSPAM_1_PATH, HAM_CAT)\n",
    "ham_emails = ham_emails.append(df_from_directory(EASY_NONSPAM_2_PATH,HAM_CAT))\n",
    "ham_emails.shape"
   ]
  },
  {
   "cell_type": "code",
   "execution_count": 10,
   "metadata": {},
   "outputs": [
    {
     "name": "stdout",
     "output_type": "stream",
     "text": [
      "Shape of entire dataframe is  (5799, 2)\n"
     ]
    },
    {
     "data": {
      "text/html": [
       "<div>\n",
       "<style scoped>\n",
       "    .dataframe tbody tr th:only-of-type {\n",
       "        vertical-align: middle;\n",
       "    }\n",
       "\n",
       "    .dataframe tbody tr th {\n",
       "        vertical-align: top;\n",
       "    }\n",
       "\n",
       "    .dataframe thead th {\n",
       "        text-align: right;\n",
       "    }\n",
       "</style>\n",
       "<table border=\"1\" class=\"dataframe\">\n",
       "  <thead>\n",
       "    <tr style=\"text-align: right;\">\n",
       "      <th></th>\n",
       "      <th>CATEGORY</th>\n",
       "      <th>MESSAGE</th>\n",
       "    </tr>\n",
       "  </thead>\n",
       "  <tbody>\n",
       "    <tr>\n",
       "      <th>00234.6b386bd178f4ae52c67b6c6d15ece489</th>\n",
       "      <td>1</td>\n",
       "      <td>REQUEST FOR URGENT BUSINESS ASSISTANCE\\n\\n---...</td>\n",
       "    </tr>\n",
       "    <tr>\n",
       "      <th>00150.f97c73fa56460a6afc6d9418ad76b5b5</th>\n",
       "      <td>1</td>\n",
       "      <td>This is a multi-part message in MIME format.\\n...</td>\n",
       "    </tr>\n",
       "    <tr>\n",
       "      <th>00282.0e230e05877f40a522bfb93aa3e314f3</th>\n",
       "      <td>1</td>\n",
       "      <td>&lt;html&gt;\\n\\n&lt;head&gt;\\n\\n&lt;/head&gt;\\n\\n&lt;center&gt;\\n\\n&lt;h1...</td>\n",
       "    </tr>\n",
       "    <tr>\n",
       "      <th>00457.f8db516c753eff2c82cfb89b33bd2620</th>\n",
       "      <td>1</td>\n",
       "      <td>&lt;HTML&gt;\\n\\n&lt;HEAD&gt;\\n\\n&lt;/HEAD&gt;\\n\\n&lt;BODY&gt;\\n\\nVIAGR...</td>\n",
       "    </tr>\n",
       "    <tr>\n",
       "      <th>00368.2c1ab4bc7f408e0fcb22dca9b2d5a113</th>\n",
       "      <td>1</td>\n",
       "      <td>&lt;!DOCTYPE HTML PUBLIC \"-//W3C//DTD HTML 3.2//E...</td>\n",
       "    </tr>\n",
       "  </tbody>\n",
       "</table>\n",
       "</div>"
      ],
      "text/plain": [
       "                                        CATEGORY  \\\n",
       "00234.6b386bd178f4ae52c67b6c6d15ece489         1   \n",
       "00150.f97c73fa56460a6afc6d9418ad76b5b5         1   \n",
       "00282.0e230e05877f40a522bfb93aa3e314f3         1   \n",
       "00457.f8db516c753eff2c82cfb89b33bd2620         1   \n",
       "00368.2c1ab4bc7f408e0fcb22dca9b2d5a113         1   \n",
       "\n",
       "                                                                                  MESSAGE  \n",
       "00234.6b386bd178f4ae52c67b6c6d15ece489   REQUEST FOR URGENT BUSINESS ASSISTANCE\\n\\n---...  \n",
       "00150.f97c73fa56460a6afc6d9418ad76b5b5  This is a multi-part message in MIME format.\\n...  \n",
       "00282.0e230e05877f40a522bfb93aa3e314f3  <html>\\n\\n<head>\\n\\n</head>\\n\\n<center>\\n\\n<h1...  \n",
       "00457.f8db516c753eff2c82cfb89b33bd2620  <HTML>\\n\\n<HEAD>\\n\\n</HEAD>\\n\\n<BODY>\\n\\nVIAGR...  \n",
       "00368.2c1ab4bc7f408e0fcb22dca9b2d5a113  <!DOCTYPE HTML PUBLIC \"-//W3C//DTD HTML 3.2//E...  "
      ]
     },
     "execution_count": 10,
     "metadata": {},
     "output_type": "execute_result"
    }
   ],
   "source": [
    "data = pd.concat([spam_emails, ham_emails])\n",
    "print('Shape of entire dataframe is ', data.shape)\n",
    "data.head()"
   ]
  },
  {
   "cell_type": "code",
   "execution_count": 11,
   "metadata": {},
   "outputs": [
    {
     "data": {
      "text/html": [
       "<div>\n",
       "<style scoped>\n",
       "    .dataframe tbody tr th:only-of-type {\n",
       "        vertical-align: middle;\n",
       "    }\n",
       "\n",
       "    .dataframe tbody tr th {\n",
       "        vertical-align: top;\n",
       "    }\n",
       "\n",
       "    .dataframe thead th {\n",
       "        text-align: right;\n",
       "    }\n",
       "</style>\n",
       "<table border=\"1\" class=\"dataframe\">\n",
       "  <thead>\n",
       "    <tr style=\"text-align: right;\">\n",
       "      <th></th>\n",
       "      <th>CATEGORY</th>\n",
       "      <th>MESSAGE</th>\n",
       "    </tr>\n",
       "  </thead>\n",
       "  <tbody>\n",
       "    <tr>\n",
       "      <th>00154.7bda4738681c601e0fd93f3c6d1ae4a1</th>\n",
       "      <td>0</td>\n",
       "      <td>On Tue, Jul 30, 2002 at 11:28:11AM +0200, Davi...</td>\n",
       "    </tr>\n",
       "    <tr>\n",
       "      <th>00363.2c66a99268facef9c5dab8c1f7b81190</th>\n",
       "      <td>0</td>\n",
       "      <td>Paul, my apologies for being irritable on the ...</td>\n",
       "    </tr>\n",
       "    <tr>\n",
       "      <th>00449.9272eb34ed6d02f46e34bd7300d9e7d8</th>\n",
       "      <td>0</td>\n",
       "      <td>Yes indeed - there should be an agents directo...</td>\n",
       "    </tr>\n",
       "    <tr>\n",
       "      <th>00062.43847c613a539ca9c47b4593ee34bd6d</th>\n",
       "      <td>0</td>\n",
       "      <td>There's been some discussion just now on the I...</td>\n",
       "    </tr>\n",
       "    <tr>\n",
       "      <th>00912.74b435accaf4e65a948c7769b6380f01</th>\n",
       "      <td>0</td>\n",
       "      <td>On Fri, 2002-07-26 at 12:49, Ian Andrew Bell w...</td>\n",
       "    </tr>\n",
       "  </tbody>\n",
       "</table>\n",
       "</div>"
      ],
      "text/plain": [
       "                                        CATEGORY  \\\n",
       "00154.7bda4738681c601e0fd93f3c6d1ae4a1         0   \n",
       "00363.2c66a99268facef9c5dab8c1f7b81190         0   \n",
       "00449.9272eb34ed6d02f46e34bd7300d9e7d8         0   \n",
       "00062.43847c613a539ca9c47b4593ee34bd6d         0   \n",
       "00912.74b435accaf4e65a948c7769b6380f01         0   \n",
       "\n",
       "                                                                                  MESSAGE  \n",
       "00154.7bda4738681c601e0fd93f3c6d1ae4a1  On Tue, Jul 30, 2002 at 11:28:11AM +0200, Davi...  \n",
       "00363.2c66a99268facef9c5dab8c1f7b81190  Paul, my apologies for being irritable on the ...  \n",
       "00449.9272eb34ed6d02f46e34bd7300d9e7d8  Yes indeed - there should be an agents directo...  \n",
       "00062.43847c613a539ca9c47b4593ee34bd6d  There's been some discussion just now on the I...  \n",
       "00912.74b435accaf4e65a948c7769b6380f01  On Fri, 2002-07-26 at 12:49, Ian Andrew Bell w...  "
      ]
     },
     "execution_count": 11,
     "metadata": {},
     "output_type": "execute_result"
    }
   ],
   "source": [
    "data.tail()"
   ]
  },
  {
   "cell_type": "markdown",
   "metadata": {},
   "source": [
    "## Data Cleaning: Checking for Missing Values"
   ]
  },
  {
   "cell_type": "code",
   "execution_count": 12,
   "metadata": {},
   "outputs": [
    {
     "data": {
      "text/plain": [
       "False"
      ]
     },
     "execution_count": 12,
     "metadata": {},
     "output_type": "execute_result"
    }
   ],
   "source": [
    "data['MESSAGE'].isnull().values.any()"
   ]
  },
  {
   "cell_type": "code",
   "execution_count": 13,
   "metadata": {},
   "outputs": [
    {
     "data": {
      "text/plain": [
       "3"
      ]
     },
     "execution_count": 13,
     "metadata": {},
     "output_type": "execute_result"
    }
   ],
   "source": [
    "(data.MESSAGE.str.len()==0).sum()"
   ]
  },
  {
   "cell_type": "markdown",
   "metadata": {},
   "source": [
    "## Locate empty emails"
   ]
  },
  {
   "cell_type": "code",
   "execution_count": 14,
   "metadata": {},
   "outputs": [
    {
     "data": {
      "text/plain": [
       "Index(['cmds', 'cmds', 'cmds'], dtype='object')"
      ]
     },
     "execution_count": 14,
     "metadata": {},
     "output_type": "execute_result"
    }
   ],
   "source": [
    "data[data.MESSAGE.str.len()==0].index"
   ]
  },
  {
   "cell_type": "code",
   "execution_count": 15,
   "metadata": {},
   "outputs": [],
   "source": [
    "data.drop(['cmds'], inplace=True)"
   ]
  },
  {
   "cell_type": "code",
   "execution_count": 16,
   "metadata": {},
   "outputs": [
    {
     "data": {
      "text/plain": [
       "(5796, 2)"
      ]
     },
     "execution_count": 16,
     "metadata": {},
     "output_type": "execute_result"
    }
   ],
   "source": [
    "data.shape"
   ]
  },
  {
   "cell_type": "markdown",
   "metadata": {},
   "source": [
    "## Add Document IDs to Track Emails in Dataset"
   ]
  },
  {
   "cell_type": "code",
   "execution_count": 17,
   "metadata": {},
   "outputs": [],
   "source": [
    "document_ids = range(0, len(data.index))\n",
    "data['DOC_ID'] = document_ids"
   ]
  },
  {
   "cell_type": "code",
   "execution_count": 18,
   "metadata": {},
   "outputs": [
    {
     "data": {
      "text/html": [
       "<div>\n",
       "<style scoped>\n",
       "    .dataframe tbody tr th:only-of-type {\n",
       "        vertical-align: middle;\n",
       "    }\n",
       "\n",
       "    .dataframe tbody tr th {\n",
       "        vertical-align: top;\n",
       "    }\n",
       "\n",
       "    .dataframe thead th {\n",
       "        text-align: right;\n",
       "    }\n",
       "</style>\n",
       "<table border=\"1\" class=\"dataframe\">\n",
       "  <thead>\n",
       "    <tr style=\"text-align: right;\">\n",
       "      <th></th>\n",
       "      <th>CATEGORY</th>\n",
       "      <th>MESSAGE</th>\n",
       "      <th>FILE_NAME</th>\n",
       "    </tr>\n",
       "    <tr>\n",
       "      <th>DOC_ID</th>\n",
       "      <th></th>\n",
       "      <th></th>\n",
       "      <th></th>\n",
       "    </tr>\n",
       "  </thead>\n",
       "  <tbody>\n",
       "    <tr>\n",
       "      <th>0</th>\n",
       "      <td>1</td>\n",
       "      <td>REQUEST FOR URGENT BUSINESS ASSISTANCE\\n\\n---...</td>\n",
       "      <td>00234.6b386bd178f4ae52c67b6c6d15ece489</td>\n",
       "    </tr>\n",
       "    <tr>\n",
       "      <th>1</th>\n",
       "      <td>1</td>\n",
       "      <td>This is a multi-part message in MIME format.\\n...</td>\n",
       "      <td>00150.f97c73fa56460a6afc6d9418ad76b5b5</td>\n",
       "    </tr>\n",
       "    <tr>\n",
       "      <th>2</th>\n",
       "      <td>1</td>\n",
       "      <td>&lt;html&gt;\\n\\n&lt;head&gt;\\n\\n&lt;/head&gt;\\n\\n&lt;center&gt;\\n\\n&lt;h1...</td>\n",
       "      <td>00282.0e230e05877f40a522bfb93aa3e314f3</td>\n",
       "    </tr>\n",
       "    <tr>\n",
       "      <th>3</th>\n",
       "      <td>1</td>\n",
       "      <td>&lt;HTML&gt;\\n\\n&lt;HEAD&gt;\\n\\n&lt;/HEAD&gt;\\n\\n&lt;BODY&gt;\\n\\nVIAGR...</td>\n",
       "      <td>00457.f8db516c753eff2c82cfb89b33bd2620</td>\n",
       "    </tr>\n",
       "    <tr>\n",
       "      <th>4</th>\n",
       "      <td>1</td>\n",
       "      <td>&lt;!DOCTYPE HTML PUBLIC \"-//W3C//DTD HTML 3.2//E...</td>\n",
       "      <td>00368.2c1ab4bc7f408e0fcb22dca9b2d5a113</td>\n",
       "    </tr>\n",
       "  </tbody>\n",
       "</table>\n",
       "</div>"
      ],
      "text/plain": [
       "        CATEGORY                                            MESSAGE  \\\n",
       "DOC_ID                                                                \n",
       "0              1   REQUEST FOR URGENT BUSINESS ASSISTANCE\\n\\n---...   \n",
       "1              1  This is a multi-part message in MIME format.\\n...   \n",
       "2              1  <html>\\n\\n<head>\\n\\n</head>\\n\\n<center>\\n\\n<h1...   \n",
       "3              1  <HTML>\\n\\n<HEAD>\\n\\n</HEAD>\\n\\n<BODY>\\n\\nVIAGR...   \n",
       "4              1  <!DOCTYPE HTML PUBLIC \"-//W3C//DTD HTML 3.2//E...   \n",
       "\n",
       "                                     FILE_NAME  \n",
       "DOC_ID                                          \n",
       "0       00234.6b386bd178f4ae52c67b6c6d15ece489  \n",
       "1       00150.f97c73fa56460a6afc6d9418ad76b5b5  \n",
       "2       00282.0e230e05877f40a522bfb93aa3e314f3  \n",
       "3       00457.f8db516c753eff2c82cfb89b33bd2620  \n",
       "4       00368.2c1ab4bc7f408e0fcb22dca9b2d5a113  "
      ]
     },
     "execution_count": 18,
     "metadata": {},
     "output_type": "execute_result"
    }
   ],
   "source": [
    "data['FILE_NAME'] = data.index\n",
    "data.set_index('DOC_ID', inplace=True)\n",
    "data.head()"
   ]
  },
  {
   "cell_type": "code",
   "execution_count": 19,
   "metadata": {},
   "outputs": [],
   "source": [
    "data.to_json(DATA_JSON_FILE)"
   ]
  },
  {
   "cell_type": "markdown",
   "metadata": {},
   "source": [
    "## Number of Spam and Ham messages Visualised"
   ]
  },
  {
   "cell_type": "code",
   "execution_count": 20,
   "metadata": {},
   "outputs": [
    {
     "data": {
      "text/plain": [
       "0    3900\n",
       "1    1896\n",
       "Name: CATEGORY, dtype: int64"
      ]
     },
     "execution_count": 20,
     "metadata": {},
     "output_type": "execute_result"
    }
   ],
   "source": [
    "data.CATEGORY.value_counts()"
   ]
  },
  {
   "cell_type": "code",
   "execution_count": 21,
   "metadata": {},
   "outputs": [],
   "source": [
    "amount_of_spam = data.CATEGORY.value_counts()[1]\n",
    "amount_of_ham = data.CATEGORY.value_counts()[0]"
   ]
  },
  {
   "cell_type": "code",
   "execution_count": 22,
   "metadata": {},
   "outputs": [
    {
     "data": {
      "image/png": "[encoded data removed]",
      "text/plain": [
       "<Figure size 454x454 with 1 Axes>"
      ]
     },
     "metadata": {},
     "output_type": "display_data"
    }
   ],
   "source": [
    "category_names = ['Spam', 'Legit Mail']\n",
    "sizes = [amount_of_spam, amount_of_ham]\n",
    "custom_colours = ['#ff7675','#74b9ff']\n",
    "\n",
    "plt.figure(figsize=(2,2), dpi=227)\n",
    "plt.pie(sizes, labels=category_names, textprops={'fontsize':6}, startangle=90,\n",
    "       autopct='%1.0f%%', colors=custom_colours, pctdistance=0.8)\n",
    "\n",
    "centre_circle = plt.Circle((0,0), radius=0.6, fc='white')\n",
    "plt.gca().add_artist(centre_circle)\n",
    "\n",
    "plt.show()"
   ]
  },
  {
   "cell_type": "markdown",
   "metadata": {},
   "source": [
    "## Download NLP Packages"
   ]
  },
  {
   "cell_type": "code",
   "execution_count": 23,
   "metadata": {},
   "outputs": [
    {
     "name": "stderr",
     "output_type": "stream",
     "text": [
      "[nltk_data] Downloading package punkt to /home/anish/nltk_data...\n",
      "[nltk_data]   Package punkt is already up-to-date!\n"
     ]
    },
    {
     "data": {
      "text/plain": [
       "True"
      ]
     },
     "execution_count": 23,
     "metadata": {},
     "output_type": "execute_result"
    }
   ],
   "source": [
    "nltk.download('punkt')"
   ]
  },
  {
   "cell_type": "code",
   "execution_count": 24,
   "metadata": {},
   "outputs": [
    {
     "name": "stderr",
     "output_type": "stream",
     "text": [
      "[nltk_data] Downloading package stopwords to /home/anish/nltk_data...\n",
      "[nltk_data]   Package stopwords is already up-to-date!\n"
     ]
    },
    {
     "data": {
      "text/plain": [
       "True"
      ]
     },
     "execution_count": 24,
     "metadata": {},
     "output_type": "execute_result"
    }
   ],
   "source": [
    "nltk.download('stopwords')"
   ]
  },
  {
   "cell_type": "markdown",
   "metadata": {},
   "source": [
    "## Functions for Email Processing"
   ]
  },
  {
   "cell_type": "code",
   "execution_count": 25,
   "metadata": {},
   "outputs": [],
   "source": [
    "def clean_message(message, stemmer=PorterStemmer(), stop_words=set(stopwords.words('english'))):\n",
    "    words = word_tokenize(message.lower())\n",
    "    \n",
    "    filtered_words = []\n",
    "    \n",
    "    for word in words:\n",
    "        if word not in stop_words and word.isalpha():\n",
    "            filtered_words.append(stemmer.stem(word))\n",
    "            \n",
    "    return filtered_words"
   ]
  },
  {
   "cell_type": "code",
   "execution_count": 26,
   "metadata": {},
   "outputs": [
    {
     "data": {
      "text/plain": [
       "['dear',\n",
       " 'mr',\n",
       " 'still',\n",
       " 'good',\n",
       " 'tide',\n",
       " 'staff',\n",
       " 'festiv',\n",
       " 'season',\n",
       " 'ahead',\n",
       " 'christma',\n",
       " 'crux',\n",
       " 'fulli',\n",
       " 'qualifi',\n",
       " 'santa',\n",
       " 'clau',\n",
       " 'wonder',\n",
       " 'whether',\n",
       " 'might',\n",
       " 'consid',\n",
       " 'run',\n",
       " 'santa',\n",
       " 'grotto',\n",
       " 'store',\n",
       " 'wait',\n",
       " 'probabl',\n",
       " 'think',\n",
       " 'make',\n",
       " 'special',\n",
       " 'well',\n",
       " 'first',\n",
       " 'made',\n",
       " 'sever',\n",
       " 'chang',\n",
       " 'characteris',\n",
       " 'father',\n",
       " 'christma',\n",
       " 'rather',\n",
       " 'greet',\n",
       " 'children',\n",
       " 'shout',\n",
       " 'ho',\n",
       " 'ho',\n",
       " 'ho',\n",
       " 'prefer',\n",
       " 'whisper',\n",
       " 'phrase',\n",
       " 'depend',\n",
       " 'unfathom',\n",
       " 'cruel',\n",
       " 'world',\n",
       " 'live',\n",
       " 'addit',\n",
       " 'gift',\n",
       " 'rang',\n",
       " 'felt',\n",
       " 'hoop',\n",
       " 'holder',\n",
       " 'note',\n",
       " 'also',\n",
       " 'enclos',\n",
       " 'sketch',\n",
       " 'radic',\n",
       " 'redesign',\n",
       " 'santa',\n",
       " 'outfit',\n",
       " 'renam',\n",
       " 'charact',\n",
       " 'lord',\n",
       " 'buckl',\n",
       " 'would',\n",
       " 'interest',\n",
       " 'employ',\n",
       " 'promis',\n",
       " 'never',\n",
       " 'let',\n",
       " 'look',\n",
       " 'forward',\n",
       " 'hear',\n",
       " 'best',\n",
       " 'wish',\n",
       " 'robin',\n",
       " 'cooper',\n",
       " 'excerpt',\n",
       " 'book',\n",
       " 'timewast',\n",
       " 'letter',\n",
       " 'robin',\n",
       " 'cooper']"
      ]
     },
     "execution_count": 26,
     "metadata": {},
     "output_type": "execute_result"
    }
   ],
   "source": [
    "clean_message(email_body)"
   ]
  },
  {
   "cell_type": "code",
   "execution_count": 27,
   "metadata": {},
   "outputs": [],
   "source": [
    "def clean_msg_no_html(message, stemmer = PorterStemmer(), stop_words=set(stopwords.words('english'))):\n",
    "    soup = BeautifulSoup(message, 'html.parser')\n",
    "    cleaned_text = soup.get_text()\n",
    "    \n",
    "    words = word_tokenize(cleaned_text.lower())\n",
    "    \n",
    "    filtered_words = []\n",
    "    \n",
    "    for word in words:\n",
    "        if word not in stop_words and word.isalpha():\n",
    "            filtered_words.append(stemmer.stem(word))\n",
    "            \n",
    "    return filtered_words"
   ]
  },
  {
   "cell_type": "code",
   "execution_count": 28,
   "metadata": {},
   "outputs": [
    {
     "data": {
      "text/plain": [
       "['free',\n",
       " 'person',\n",
       " 'busi',\n",
       " 'grant',\n",
       " 'qualifi',\n",
       " 'least',\n",
       " 'free',\n",
       " 'grant',\n",
       " 'money',\n",
       " 'guarante',\n",
       " 'day',\n",
       " 'one',\n",
       " 'million',\n",
       " 'dollar',\n",
       " 'free',\n",
       " 'govern',\n",
       " 'grant',\n",
       " 'given',\n",
       " 'away',\n",
       " 'peopl',\n",
       " 'like',\n",
       " 'wide',\n",
       " 'varieti',\n",
       " 'busi',\n",
       " 'person',\n",
       " 'need',\n",
       " 'dear',\n",
       " 'grant',\n",
       " 'seeker',\n",
       " 'moment',\n",
       " 'tell',\n",
       " 'exactli',\n",
       " 'get',\n",
       " 'grant',\n",
       " 'money',\n",
       " 'given',\n",
       " 'away',\n",
       " 'may',\n",
       " 'think',\n",
       " 'get',\n",
       " 'free',\n",
       " 'grant',\n",
       " 'money',\n",
       " 'mayb',\n",
       " 'think',\n",
       " 'imposs',\n",
       " 'get',\n",
       " 'free',\n",
       " 'money',\n",
       " 'let',\n",
       " 'tell',\n",
       " 'imposs',\n",
       " 'fact',\n",
       " 'ordinari',\n",
       " 'peopl',\n",
       " 'busi',\n",
       " 'across',\n",
       " 'unit',\n",
       " 'state',\n",
       " 'receiv',\n",
       " 'million',\n",
       " 'dollar',\n",
       " 'govern',\n",
       " 'privat',\n",
       " 'foundat',\n",
       " 'everyday',\n",
       " 'appli',\n",
       " 'anyon',\n",
       " 'appli',\n",
       " 'grant',\n",
       " 'year',\n",
       " 'old',\n",
       " 'grant',\n",
       " 'possibl',\n",
       " 'grant',\n",
       " 'paid',\n",
       " 'back',\n",
       " 'ever',\n",
       " 'claim',\n",
       " 'slice',\n",
       " 'free',\n",
       " 'american',\n",
       " 'pie',\n",
       " 'money',\n",
       " 'loan',\n",
       " 'tri',\n",
       " 'get',\n",
       " 'money',\n",
       " 'convent',\n",
       " 'bank',\n",
       " 'time',\n",
       " 'consum',\n",
       " 'requir',\n",
       " 'lot',\n",
       " 'paperwork',\n",
       " 'find',\n",
       " 'deni',\n",
       " 'govern',\n",
       " 'agenc',\n",
       " 'oper',\n",
       " 'stringent',\n",
       " 'requir',\n",
       " 'bank',\n",
       " 'decid',\n",
       " 'much',\n",
       " 'money',\n",
       " 'need',\n",
       " 'long',\n",
       " 'law',\n",
       " 'amount',\n",
       " 'meet',\n",
       " 'govern',\n",
       " 'agenc',\n",
       " 'criteria',\n",
       " 'money',\n",
       " 'keep',\n",
       " 'never',\n",
       " 'repaid',\n",
       " 'money',\n",
       " 'non',\n",
       " 'taxabl',\n",
       " 'interest',\n",
       " 'free',\n",
       " 'none',\n",
       " 'program',\n",
       " 'requir',\n",
       " 'credit',\n",
       " 'check',\n",
       " 'collater',\n",
       " 'secur',\n",
       " 'deposit',\n",
       " 'appli',\n",
       " 'even',\n",
       " 'bankruptci',\n",
       " 'bad',\n",
       " 'credit',\n",
       " 'matter',\n",
       " 'tax',\n",
       " 'payer',\n",
       " 'citizen',\n",
       " 'entitl',\n",
       " 'money',\n",
       " 'current',\n",
       " 'feder',\n",
       " 'program',\n",
       " 'state',\n",
       " 'program',\n",
       " 'privat',\n",
       " 'foundat',\n",
       " 'scholarship',\n",
       " 'program',\n",
       " 'avail',\n",
       " 'year',\n",
       " 'billion',\n",
       " 'dollar',\n",
       " 'free',\n",
       " 'person',\n",
       " 'busi',\n",
       " 'govern',\n",
       " 'grant',\n",
       " 'money',\n",
       " 'given',\n",
       " 'away',\n",
       " 'govern',\n",
       " 'grant',\n",
       " 'agenc',\n",
       " 'govern',\n",
       " 'person',\n",
       " 'busi',\n",
       " 'grant',\n",
       " 'fact',\n",
       " 'million',\n",
       " 'peopl',\n",
       " 'get',\n",
       " 'govern',\n",
       " 'money',\n",
       " 'everi',\n",
       " 'year',\n",
       " 'entrepreneur',\n",
       " 'get',\n",
       " 'money',\n",
       " 'start',\n",
       " 'expand',\n",
       " 'busi',\n",
       " 'peopl',\n",
       " 'get',\n",
       " 'money',\n",
       " 'invest',\n",
       " 'real',\n",
       " 'estat',\n",
       " 'peopl',\n",
       " 'get',\n",
       " 'money',\n",
       " 'go',\n",
       " 'colleg',\n",
       " 'peopl',\n",
       " 'get',\n",
       " 'free',\n",
       " 'help',\n",
       " 'train',\n",
       " 'better',\n",
       " 'job',\n",
       " 'get',\n",
       " 'busi',\n",
       " 'grant',\n",
       " 'anyon',\n",
       " 'think',\n",
       " 'go',\n",
       " 'busi',\n",
       " 'want',\n",
       " 'expand',\n",
       " 'exist',\n",
       " 'busi',\n",
       " 'rush',\n",
       " 'world',\n",
       " 'largest',\n",
       " 'free',\n",
       " 'busi',\n",
       " 'grant',\n",
       " 'start',\n",
       " 'expand',\n",
       " 'busi',\n",
       " 'held',\n",
       " 'feder',\n",
       " 'govern',\n",
       " 'sound',\n",
       " 'absolut',\n",
       " 'incred',\n",
       " 'peopl',\n",
       " 'live',\n",
       " 'right',\n",
       " 'unit',\n",
       " 'state',\n",
       " 'america',\n",
       " 'would',\n",
       " 'know',\n",
       " 'year',\n",
       " 'world',\n",
       " 'largest',\n",
       " 'sourc',\n",
       " 'free',\n",
       " 'busi',\n",
       " 'help',\n",
       " 'deliv',\n",
       " 'billion',\n",
       " 'dollar',\n",
       " 'free',\n",
       " 'busi',\n",
       " 'grant',\n",
       " 'loan',\n",
       " 'trillion',\n",
       " 'dollar',\n",
       " 'procur',\n",
       " 'contract',\n",
       " 'billion',\n",
       " 'dollar',\n",
       " 'free',\n",
       " 'consult',\n",
       " 'research',\n",
       " 'grant',\n",
       " 'economi',\n",
       " 'remain',\n",
       " 'unpredict',\n",
       " 'need',\n",
       " 'even',\n",
       " 'greater',\n",
       " 'econom',\n",
       " 'develop',\n",
       " 'front',\n",
       " 'feder',\n",
       " 'govern',\n",
       " 'will',\n",
       " 'ever',\n",
       " 'give',\n",
       " 'money',\n",
       " 'need',\n",
       " 'busi',\n",
       " 'becom',\n",
       " 'boss',\n",
       " 'spite',\n",
       " 'percept',\n",
       " 'peopl',\n",
       " 'look',\n",
       " 'govern',\n",
       " 'help',\n",
       " 'great',\n",
       " 'govern',\n",
       " 'program',\n",
       " 'remain',\n",
       " 'incred',\n",
       " 'huge',\n",
       " 'approxim',\n",
       " 'million',\n",
       " 'busi',\n",
       " 'appli',\n",
       " 'equal',\n",
       " 'share',\n",
       " 'would',\n",
       " 'receiv',\n",
       " 'peopl',\n",
       " 'never',\n",
       " 'appli',\n",
       " 'free',\n",
       " 'busi',\n",
       " 'grant',\n",
       " 'somehow',\n",
       " 'feel',\n",
       " 'feel',\n",
       " 'much',\n",
       " 'simpli',\n",
       " 'know',\n",
       " 'fact',\n",
       " 'howev',\n",
       " 'peopl',\n",
       " 'walk',\n",
       " 'life',\n",
       " 'receiv',\n",
       " 'free',\n",
       " 'grant',\n",
       " 'money',\n",
       " 'benefit',\n",
       " 'govern',\n",
       " 'also',\n",
       " 'govern',\n",
       " 'grant',\n",
       " 'person',\n",
       " 'need',\n",
       " 'help',\n",
       " 'buy',\n",
       " 'new',\n",
       " 'home',\n",
       " 'low',\n",
       " 'incom',\n",
       " 'famili',\n",
       " 'repair',\n",
       " 'home',\n",
       " 'rent',\n",
       " 'mortgag',\n",
       " 'payment',\n",
       " 'util',\n",
       " 'bill',\n",
       " 'purchas',\n",
       " 'new',\n",
       " 'car',\n",
       " 'groceri',\n",
       " 'childcar',\n",
       " 'fuel',\n",
       " 'gener',\n",
       " 'live',\n",
       " 'expens',\n",
       " 'academ',\n",
       " 'tutor',\n",
       " 'cloth',\n",
       " 'school',\n",
       " 'suppli',\n",
       " 'hous',\n",
       " 'assist',\n",
       " 'legal',\n",
       " 'servic',\n",
       " 'summer',\n",
       " 'camp',\n",
       " 'debt',\n",
       " 'music',\n",
       " 'lesson',\n",
       " 'art',\n",
       " 'lesson',\n",
       " 'extracurricular',\n",
       " 'activ',\n",
       " 'pay',\n",
       " 'bill',\n",
       " 'senior',\n",
       " 'citizen',\n",
       " 'real',\n",
       " 'estat',\n",
       " 'tax',\n",
       " 'medic',\n",
       " 'expens',\n",
       " 'gener',\n",
       " 'welfar',\n",
       " 'someon',\n",
       " 'know',\n",
       " 'suffer',\n",
       " 'fire',\n",
       " 'lose',\n",
       " 'program',\n",
       " 'avail',\n",
       " 'help',\n",
       " 'replac',\n",
       " 'necess',\n",
       " 'scholarship',\n",
       " 'grant',\n",
       " 'educ',\n",
       " 'grant',\n",
       " 'money',\n",
       " 'preschool',\n",
       " 'children',\n",
       " 'nurseri',\n",
       " 'school',\n",
       " 'educ',\n",
       " 'privat',\n",
       " 'primari',\n",
       " 'secondari',\n",
       " 'school',\n",
       " 'men',\n",
       " 'women',\n",
       " 'educ',\n",
       " 'scholarship',\n",
       " 'athlet',\n",
       " 'busi',\n",
       " 'manag',\n",
       " 'engin',\n",
       " 'comput',\n",
       " 'scienc',\n",
       " 'medic',\n",
       " 'school',\n",
       " 'undergradu',\n",
       " 'graduat',\n",
       " 'profession',\n",
       " 'foreign',\n",
       " 'studi',\n",
       " 'mani',\n",
       " 'get',\n",
       " 'free',\n",
       " 'grant',\n",
       " 'shortest',\n",
       " 'time',\n",
       " 'possibl',\n",
       " 'know',\n",
       " 'appli',\n",
       " 'specif',\n",
       " 'free',\n",
       " 'grant',\n",
       " 'result',\n",
       " 'almost',\n",
       " 'inevit',\n",
       " 'govern',\n",
       " 'want',\n",
       " 'give',\n",
       " 'away',\n",
       " 'money',\n",
       " 'congression',\n",
       " 'mandat',\n",
       " 'fund',\n",
       " 'made',\n",
       " 'avail',\n",
       " 'help',\n",
       " 'tax',\n",
       " 'payer',\n",
       " 'requir',\n",
       " 'proper',\n",
       " 'present',\n",
       " 'grant',\n",
       " 'request',\n",
       " 'announc',\n",
       " 'complet',\n",
       " 'guid',\n",
       " 'govern',\n",
       " 'grant',\n",
       " 'forget',\n",
       " 'everyth',\n",
       " 'seen',\n",
       " 'heard',\n",
       " 'govern',\n",
       " 'grant',\n",
       " 'done',\n",
       " 'put',\n",
       " 'togeth',\n",
       " 'complet',\n",
       " 'blueprint',\n",
       " 'research',\n",
       " 'locat',\n",
       " 'obtain',\n",
       " 'govern',\n",
       " 'grant',\n",
       " 'complet',\n",
       " 'guid',\n",
       " 'govern',\n",
       " 'grant',\n",
       " 'comprehens',\n",
       " 'tool',\n",
       " 'obtain',\n",
       " 'free',\n",
       " 'grant',\n",
       " 'money',\n",
       " 'come',\n",
       " 'electron',\n",
       " 'book',\n",
       " 'format',\n",
       " 'mean',\n",
       " 'download',\n",
       " 'start',\n",
       " 'use',\n",
       " 'minut',\n",
       " 'order',\n",
       " 'complet',\n",
       " 'guid',\n",
       " 'govern',\n",
       " 'grant',\n",
       " 'provid',\n",
       " 'access',\n",
       " 'thousand',\n",
       " 'grant',\n",
       " 'loan',\n",
       " 'sourc',\n",
       " 'step',\n",
       " 'step',\n",
       " 'instruct',\n",
       " 'propos',\n",
       " 'write',\n",
       " 'contact',\n",
       " 'procedur',\n",
       " 'complet',\n",
       " 'guid',\n",
       " 'govern',\n",
       " 'grant',\n",
       " 'find',\n",
       " 'step',\n",
       " 'step',\n",
       " 'guidelin',\n",
       " 'appli',\n",
       " 'govern',\n",
       " 'grant',\n",
       " 'direct',\n",
       " 'access',\n",
       " 'grant',\n",
       " 'loan',\n",
       " 'assist',\n",
       " 'program',\n",
       " 'offer',\n",
       " 'feder',\n",
       " 'govern',\n",
       " 'need',\n",
       " 'click',\n",
       " 'find',\n",
       " 'program',\n",
       " 'detail',\n",
       " 'categor',\n",
       " 'list',\n",
       " 'direct',\n",
       " 'access',\n",
       " 'thousand',\n",
       " 'resourc',\n",
       " 'state',\n",
       " 'specif',\n",
       " 'grant',\n",
       " 'program',\n",
       " 'name',\n",
       " 'phone',\n",
       " 'number',\n",
       " 'address',\n",
       " 'expert',\n",
       " 'state',\n",
       " 'answer',\n",
       " 'grant',\n",
       " 'relat',\n",
       " 'question',\n",
       " 'help',\n",
       " 'grant',\n",
       " 'applic',\n",
       " 'free',\n",
       " 'charg',\n",
       " 'onlin',\n",
       " 'directori',\n",
       " 'govern',\n",
       " 'support',\n",
       " 'ventur',\n",
       " 'capit',\n",
       " 'firm',\n",
       " 'uniqu',\n",
       " 'search',\n",
       " 'tool',\n",
       " 'allow',\n",
       " 'gener',\n",
       " 'custom',\n",
       " 'list',\n",
       " 'recent',\n",
       " 'announc',\n",
       " 'grant',\n",
       " 'program',\n",
       " 'govern',\n",
       " 'fund',\n",
       " 'program',\n",
       " 'small',\n",
       " 'busi',\n",
       " 'top',\n",
       " 'govern',\n",
       " 'program',\n",
       " 'base',\n",
       " 'number',\n",
       " 'inquiri',\n",
       " 'discov',\n",
       " 'sought',\n",
       " 'govern',\n",
       " 'grant',\n",
       " 'assist',\n",
       " 'program',\n",
       " 'claim',\n",
       " 'slice',\n",
       " 'free',\n",
       " 'american',\n",
       " 'pie',\n",
       " 'onlin',\n",
       " 'directori',\n",
       " 'feder',\n",
       " 'state',\n",
       " 'resourc',\n",
       " 'govern',\n",
       " 'scholarship',\n",
       " 'grant',\n",
       " 'educ',\n",
       " 'step',\n",
       " 'step',\n",
       " 'guidelin',\n",
       " 'locat',\n",
       " 'grant',\n",
       " 'loan',\n",
       " 'assist',\n",
       " 'program',\n",
       " 'start',\n",
       " 'new',\n",
       " 'busi',\n",
       " 'expand',\n",
       " 'exist',\n",
       " 'one',\n",
       " 'get',\n",
       " 'free',\n",
       " 'small',\n",
       " 'busi',\n",
       " 'counsel',\n",
       " 'expert',\n",
       " 'advic',\n",
       " 'courtesi',\n",
       " 'us',\n",
       " 'govern',\n",
       " 'govern',\n",
       " 'grant',\n",
       " 'applic',\n",
       " 'form',\n",
       " 'direct',\n",
       " 'access',\n",
       " 'thousand',\n",
       " 'govern',\n",
       " 'grant',\n",
       " 'program',\n",
       " 'cover',\n",
       " 'small',\n",
       " 'busi',\n",
       " 'home',\n",
       " 'improv',\n",
       " 'home',\n",
       " 'buy',\n",
       " 'homeownership',\n",
       " 'land',\n",
       " 'acquisit',\n",
       " 'site',\n",
       " 'prepar',\n",
       " 'hous',\n",
       " 'health',\n",
       " 'assist',\n",
       " 'servic',\n",
       " 'unemploy',\n",
       " 'job',\n",
       " 'train',\n",
       " 'feder',\n",
       " 'employ',\n",
       " 'educ',\n",
       " 'much',\n",
       " 'much',\n",
       " 'develop',\n",
       " 'write',\n",
       " 'grant',\n",
       " 'propos',\n",
       " 'get',\n",
       " 'result',\n",
       " 'plu',\n",
       " 'much',\n",
       " 'complet',\n",
       " 'guid',\n",
       " 'govern',\n",
       " 'grant',\n",
       " 'comprehens',\n",
       " 'provid',\n",
       " 'direct',\n",
       " 'access',\n",
       " 'practic',\n",
       " 'everi',\n",
       " 'sourc',\n",
       " 'free',\n",
       " 'govern',\n",
       " 'grant',\n",
       " 'money',\n",
       " 'current',\n",
       " 'avail',\n",
       " 'american',\n",
       " 'citizen',\n",
       " 'resid',\n",
       " 'entitl',\n",
       " 'free',\n",
       " 'grant',\n",
       " 'money',\n",
       " 'rang',\n",
       " 'black',\n",
       " 'alreadi',\n",
       " 'qualifi',\n",
       " 'program',\n",
       " 'hispan',\n",
       " 'qualifi',\n",
       " 'mani',\n",
       " 'program',\n",
       " 'christian',\n",
       " 'get',\n",
       " 'program',\n",
       " 'also',\n",
       " 'mani',\n",
       " 'program',\n",
       " 'avail',\n",
       " 'differ',\n",
       " 'faith',\n",
       " 'jewish',\n",
       " 'cathol',\n",
       " 'money',\n",
       " 'get',\n",
       " 'program',\n",
       " 'program',\n",
       " 'unemploy',\n",
       " 'underemploy',\n",
       " 'list',\n",
       " 'sourc',\n",
       " 'endless',\n",
       " 'elig',\n",
       " 'money',\n",
       " 'absolut',\n",
       " 'free',\n",
       " 'use',\n",
       " 'worthwhil',\n",
       " 'purpos',\n",
       " 'know',\n",
       " 'appli',\n",
       " 'mani',\n",
       " 'grant',\n",
       " 'want',\n",
       " 'true',\n",
       " 'instanc',\n",
       " 'could',\n",
       " 'get',\n",
       " 'grant',\n",
       " 'begin',\n",
       " 'weight',\n",
       " 'loss',\n",
       " 'busi',\n",
       " 'get',\n",
       " 'tuition',\n",
       " 'becom',\n",
       " 'nurs',\n",
       " 'open',\n",
       " 'center',\n",
       " 'alway',\n",
       " 'dream',\n",
       " 'own',\n",
       " 'go',\n",
       " 'appli',\n",
       " 'grant',\n",
       " 'buy',\n",
       " 'home',\n",
       " 'famili',\n",
       " 'new',\n",
       " 'busi',\n",
       " 'start',\n",
       " 'well',\n",
       " 'could',\n",
       " 'go',\n",
       " 'get',\n",
       " 'anoth',\n",
       " 'grant',\n",
       " 'expans',\n",
       " 'busi',\n",
       " 'possibl',\n",
       " 'endless',\n",
       " 'must',\n",
       " 'qualifi',\n",
       " 'least',\n",
       " 'free',\n",
       " 'grant',\n",
       " 'money',\n",
       " 'money',\n",
       " 'back',\n",
       " 'confid',\n",
       " 'grant',\n",
       " 'guid',\n",
       " 'receiv',\n",
       " 'least',\n",
       " 'free',\n",
       " 'grant',\n",
       " 'money',\n",
       " 'unhappi',\n",
       " 'reason',\n",
       " 'within',\n",
       " 'next',\n",
       " 'month',\n",
       " 'send',\n",
       " 'back',\n",
       " 'refund',\n",
       " 'entir',\n",
       " 'payment',\n",
       " 'question',\n",
       " 'ask',\n",
       " 'want',\n",
       " 'order',\n",
       " 'insist',\n",
       " 'entir',\n",
       " 'risk',\n",
       " 'come',\n",
       " 'risk',\n",
       " 'full',\n",
       " 'year',\n",
       " 'guarante',\n",
       " 'absolut',\n",
       " 'risk',\n",
       " 'part',\n",
       " 'day',\n",
       " 'guarante',\n",
       " 'mean',\n",
       " 'want',\n",
       " 'order',\n",
       " 'without',\n",
       " 'feel',\n",
       " 'might',\n",
       " 'get',\n",
       " 'taken',\n",
       " 'therefor',\n",
       " 'want',\n",
       " 'order',\n",
       " 'materi',\n",
       " 'today',\n",
       " 'read',\n",
       " 'use',\n",
       " 'reason',\n",
       " 'complet',\n",
       " 'satisfi',\n",
       " 'cancel',\n",
       " 'immedi',\n",
       " 'refund',\n",
       " 'purchas',\n",
       " 'price',\n",
       " 'simpli',\n",
       " 'ca',\n",
       " 'lose',\n",
       " 'free',\n",
       " 'bonus',\n",
       " 'sweeten',\n",
       " 'deal',\n",
       " 'includ',\n",
       " 'follow',\n",
       " 'four',\n",
       " 'valuabl',\n",
       " 'bonus',\n",
       " 'keep',\n",
       " 'gift',\n",
       " 'even',\n",
       " 'later',\n",
       " 'decid',\n",
       " 'keep',\n",
       " 'grant',\n",
       " 'guid',\n",
       " 'free',\n",
       " 'bonu',\n",
       " 'fulli',\n",
       " 'featur',\n",
       " 'grant',\n",
       " 'write',\n",
       " 'tutori',\n",
       " 'softwar',\n",
       " 'packag',\n",
       " 'info',\n",
       " 'alon',\n",
       " 'worth',\n",
       " 'thousand',\n",
       " 'dollar',\n",
       " 'guarante',\n",
       " 'purchas',\n",
       " 'grant',\n",
       " 'cd',\n",
       " 'info',\n",
       " 'anywher',\n",
       " 'receiv',\n",
       " 'download',\n",
       " 'softwar',\n",
       " 'actual',\n",
       " 'show',\n",
       " 'appli',\n",
       " 'say',\n",
       " 'accept',\n",
       " 'grant',\n",
       " 'interact',\n",
       " 'softwar',\n",
       " 'tool',\n",
       " 'walk',\n",
       " 'process',\n",
       " 'teach',\n",
       " 'everyth',\n",
       " 'need',\n",
       " 'know',\n",
       " 'write',\n",
       " 'competit',\n",
       " 'grant',\n",
       " 'propos',\n",
       " 'program',\n",
       " 'includ',\n",
       " 'detail',\n",
       " 'inform',\n",
       " 'tip',\n",
       " 'write',\n",
       " 'grant',\n",
       " 'propos',\n",
       " 'complet',\n",
       " 'grant',\n",
       " 'applic',\n",
       " 'packag',\n",
       " 'exampl',\n",
       " 'good',\n",
       " 'complet',\n",
       " 'grant',\n",
       " 'packag',\n",
       " 'glossari',\n",
       " 'grant',\n",
       " 'term',\n",
       " 'resourc',\n",
       " 'contact',\n",
       " 'mock',\n",
       " 'activ',\n",
       " 'abl',\n",
       " 'compar',\n",
       " 'result',\n",
       " 'success',\n",
       " 'grant',\n",
       " 'applic',\n",
       " 'plu',\n",
       " 'much',\n",
       " 'much',\n",
       " 'free',\n",
       " 'bonu',\n",
       " 'insid',\n",
       " 'inform',\n",
       " 'report',\n",
       " 'way',\n",
       " 'save',\n",
       " 'money',\n",
       " 'valuabl',\n",
       " 'special',\n",
       " 'report',\n",
       " 'contain',\n",
       " 'insid',\n",
       " 'expert',\n",
       " 'tip',\n",
       " 'techniqu',\n",
       " 'help',\n",
       " 'save',\n",
       " 'thousand',\n",
       " 'dollar',\n",
       " 'discov',\n",
       " 'littl',\n",
       " 'known',\n",
       " 'secret',\n",
       " 'trick',\n",
       " 'save',\n",
       " 'money',\n",
       " 'airlin',\n",
       " 'fare',\n",
       " 'car',\n",
       " 'rental',\n",
       " 'new',\n",
       " 'use',\n",
       " 'car',\n",
       " 'buy',\n",
       " 'auto',\n",
       " 'leas',\n",
       " 'gasolin',\n",
       " 'car',\n",
       " 'repair',\n",
       " 'auto',\n",
       " 'insur',\n",
       " 'life',\n",
       " 'insur',\n",
       " 'save',\n",
       " 'invest',\n",
       " 'credit',\n",
       " 'card',\n",
       " 'home',\n",
       " 'equiti',\n",
       " 'loan',\n",
       " 'home',\n",
       " 'purchas',\n",
       " 'major',\n",
       " 'applianc',\n",
       " 'home',\n",
       " 'heat',\n",
       " 'telephon',\n",
       " 'servic',\n",
       " 'food',\n",
       " 'purchas',\n",
       " ...]"
      ]
     },
     "execution_count": 28,
     "metadata": {},
     "output_type": "execute_result"
    }
   ],
   "source": [
    "clean_msg_no_html(data.at[2,'MESSAGE'])"
   ]
  },
  {
   "cell_type": "code",
   "execution_count": 29,
   "metadata": {},
   "outputs": [
    {
     "name": "stderr",
     "output_type": "stream",
     "text": [
      "/home/anish/anaconda3/lib/python3.7/site-packages/bs4/__init__.py:336: UserWarning: \"http://www.post-gazette.com/columnists/20020905brian5\n",
      "\" looks like a URL. Beautiful Soup is not an HTTP client. You should probably use an HTTP client like requests to get the document behind the URL, and feed that document to Beautiful Soup.\n",
      "  ' that document to Beautiful Soup.' % decoded_markup\n"
     ]
    },
    {
     "name": "stdout",
     "output_type": "stream",
     "text": [
      "CPU times: user 35.7 s, sys: 33.6 ms, total: 35.7 s\n",
      "Wall time: 35.7 s\n"
     ]
    }
   ],
   "source": [
    "%%time\n",
    "\n",
    "nested_list = data.MESSAGE.apply(clean_msg_no_html)"
   ]
  },
  {
   "cell_type": "code",
   "execution_count": 30,
   "metadata": {},
   "outputs": [
    {
     "data": {
      "text/plain": [
       "DOC_ID\n",
       "5791    [tue, jul, david, neari, mention, exampl, say,...\n",
       "5792    [paul, apolog, irrit, subject, tone, rhetor, q...\n",
       "5793    [ye, inde, agent, directori, verita, cd, unix,...\n",
       "5794    [discuss, ilug, irc, channel, osi, protocol, l...\n",
       "5795    [fri, ian, andrew, bell, wrote, particularli, ...\n",
       "Name: MESSAGE, dtype: object"
      ]
     },
     "execution_count": 30,
     "metadata": {},
     "output_type": "execute_result"
    }
   ],
   "source": [
    "nested_list.tail()"
   ]
  },
  {
   "cell_type": "code",
   "execution_count": 31,
   "metadata": {},
   "outputs": [],
   "source": [
    "doc_ids_spam = data[data.CATEGORY == 1].index\n",
    "doc_ids_ham = data[data.CATEGORY == 0].index"
   ]
  },
  {
   "cell_type": "code",
   "execution_count": 32,
   "metadata": {},
   "outputs": [
    {
     "data": {
      "text/plain": [
       "Int64Index([1896, 1897, 1898, 1899, 1900, 1901, 1902, 1903, 1904, 1905,\n",
       "            ...\n",
       "            5786, 5787, 5788, 5789, 5790, 5791, 5792, 5793, 5794, 5795],\n",
       "           dtype='int64', name='DOC_ID', length=3900)"
      ]
     },
     "execution_count": 32,
     "metadata": {},
     "output_type": "execute_result"
    }
   ],
   "source": [
    "doc_ids_ham"
   ]
  },
  {
   "cell_type": "code",
   "execution_count": 33,
   "metadata": {},
   "outputs": [],
   "source": [
    "nested_list_ham = nested_list.loc[doc_ids_ham]"
   ]
  },
  {
   "cell_type": "code",
   "execution_count": 34,
   "metadata": {},
   "outputs": [
    {
     "data": {
      "text/plain": [
       "(3900,)"
      ]
     },
     "execution_count": 34,
     "metadata": {},
     "output_type": "execute_result"
    }
   ],
   "source": [
    "nested_list_ham.shape"
   ]
  },
  {
   "cell_type": "code",
   "execution_count": 35,
   "metadata": {},
   "outputs": [
    {
     "data": {
      "text/plain": [
       "DOC_ID\n",
       "5791    [tue, jul, david, neari, mention, exampl, say,...\n",
       "5792    [paul, apolog, irrit, subject, tone, rhetor, q...\n",
       "5793    [ye, inde, agent, directori, verita, cd, unix,...\n",
       "5794    [discuss, ilug, irc, channel, osi, protocol, l...\n",
       "5795    [fri, ian, andrew, bell, wrote, particularli, ...\n",
       "Name: MESSAGE, dtype: object"
      ]
     },
     "execution_count": 35,
     "metadata": {},
     "output_type": "execute_result"
    }
   ],
   "source": [
    "nested_list_ham.tail()"
   ]
  },
  {
   "cell_type": "code",
   "execution_count": 36,
   "metadata": {},
   "outputs": [],
   "source": [
    "nested_list_spam = nested_list.loc[doc_ids_spam]"
   ]
  },
  {
   "cell_type": "code",
   "execution_count": 37,
   "metadata": {},
   "outputs": [
    {
     "data": {
      "text/plain": [
       "20755"
      ]
     },
     "execution_count": 37,
     "metadata": {},
     "output_type": "execute_result"
    }
   ],
   "source": [
    "flat_list_ham = [item for sublist in nested_list_ham for item in sublist]\n",
    "normal_words = pd.Series(flat_list_ham).value_counts()\n",
    "normal_words.shape[0]"
   ]
  },
  {
   "cell_type": "code",
   "execution_count": 38,
   "metadata": {},
   "outputs": [
    {
     "data": {
      "text/plain": [
       "http      7561\n",
       "use       3630\n",
       "list      2878\n",
       "one       2371\n",
       "get       2284\n",
       "mail      2255\n",
       "would     2003\n",
       "like      1928\n",
       "messag    1847\n",
       "work      1798\n",
       "dtype: int64"
      ]
     },
     "execution_count": 38,
     "metadata": {},
     "output_type": "execute_result"
    }
   ],
   "source": [
    "normal_words[:10]"
   ]
  },
  {
   "cell_type": "code",
   "execution_count": 39,
   "metadata": {},
   "outputs": [
    {
     "data": {
      "text/plain": [
       "13284"
      ]
     },
     "execution_count": 39,
     "metadata": {},
     "output_type": "execute_result"
    }
   ],
   "source": [
    "flat_list_spam = [item for sublist in nested_list_spam for item in sublist]\n",
    "spammy_words = pd.Series(flat_list_spam).value_counts()\n",
    "spammy_words.shape[0]"
   ]
  },
  {
   "cell_type": "code",
   "execution_count": 40,
   "metadata": {},
   "outputs": [
    {
     "data": {
      "text/plain": [
       "http      3101\n",
       "email     3094\n",
       "free      2555\n",
       "click     2058\n",
       "receiv    1987\n",
       "list      1974\n",
       "get       1903\n",
       "pleas     1842\n",
       "busi      1792\n",
       "order     1743\n",
       "dtype: int64"
      ]
     },
     "execution_count": 40,
     "metadata": {},
     "output_type": "execute_result"
    }
   ],
   "source": [
    "spammy_words[:10]"
   ]
  },
  {
   "cell_type": "markdown",
   "metadata": {},
   "source": [
    "## Word Cloud"
   ]
  },
  {
   "cell_type": "code",
   "execution_count": 41,
   "metadata": {},
   "outputs": [
    {
     "data": {
      "image/png": "[encoded data removed]",
      "text/plain": [
       "<Figure size 1152x576 with 1 Axes>"
      ]
     },
     "metadata": {
      "needs_background": "light"
     },
     "output_type": "display_data"
    }
   ],
   "source": [
    "icon = Image.open(THUMBS_UP_FILE)\n",
    "image_mask = Image.new(mode='RGB', size=icon.size, color=(255, 255, 255))\n",
    "image_mask.paste(icon, box=icon)\n",
    "\n",
    "rgb_array = np.array(image_mask) \n",
    "\n",
    "ham_str = ' '.join(flat_list_ham)\n",
    "\n",
    "word_cloud = WordCloud(mask=rgb_array, background_color='white', \n",
    "                      max_words=500, colormap='winter')\n",
    "\n",
    "word_cloud.generate(ham_str)\n",
    "\n",
    "plt.figure(figsize=[16, 8])\n",
    "plt.imshow(word_cloud, interpolation='bilinear')\n",
    "plt.axis('off')\n",
    "plt.show()"
   ]
  },
  {
   "cell_type": "code",
   "execution_count": 42,
   "metadata": {},
   "outputs": [
    {
     "data": {
      "image/png": "[encoded data removed]",
      "text/plain": [
       "<Figure size 1152x576 with 1 Axes>"
      ]
     },
     "metadata": {
      "needs_background": "light"
     },
     "output_type": "display_data"
    }
   ],
   "source": [
    "icon = Image.open(THUMBS_DOWN_FILE)\n",
    "image_mask = Image.new(mode='RGB', size=icon.size, color=(255, 255, 255))\n",
    "image_mask.paste(icon, box=icon)\n",
    "\n",
    "rgb_array = np.array(image_mask) \n",
    "\n",
    "spam_str = ' '.join(flat_list_spam)\n",
    "\n",
    "word_cloud = WordCloud(mask=rgb_array, background_color='white', \n",
    "                      max_words=2000, colormap='gist_heat', font_path=CUSTOM_FONT_FILE)\n",
    "spam_str = spam_str.upper()\n",
    "word_cloud.generate(spam_str)\n",
    "\n",
    "plt.figure(figsize=[16, 8])\n",
    "plt.imshow(word_cloud, interpolation='bilinear')\n",
    "plt.axis('off')\n",
    "plt.show()"
   ]
  },
  {
   "cell_type": "markdown",
   "metadata": {},
   "source": [
    "## Generating Vocabulary & Dictionary"
   ]
  },
  {
   "cell_type": "code",
   "execution_count": 43,
   "metadata": {},
   "outputs": [],
   "source": [
    "stemmed_nested_list = data.MESSAGE.apply(clean_msg_no_html)\n",
    "flat_stemmed_list = [item for sublist in stemmed_nested_list for item in sublist]"
   ]
  },
  {
   "cell_type": "code",
   "execution_count": 44,
   "metadata": {},
   "outputs": [
    {
     "name": "stdout",
     "output_type": "stream",
     "text": [
      "Number of unique words 27305\n"
     ]
    },
    {
     "data": {
      "text/plain": [
       "http     10662\n",
       "use       5017\n",
       "list      4852\n",
       "email     4370\n",
       "get       4187\n",
       "dtype: int64"
      ]
     },
     "execution_count": 44,
     "metadata": {},
     "output_type": "execute_result"
    }
   ],
   "source": [
    "unique_words = pd.Series(flat_stemmed_list).value_counts()\n",
    "print('Number of unique words', unique_words.shape[0])\n",
    "unique_words.head()"
   ]
  },
  {
   "cell_type": "code",
   "execution_count": 45,
   "metadata": {},
   "outputs": [
    {
     "name": "stdout",
     "output_type": "stream",
     "text": [
      "Most common words: \n",
      " http     10662\n",
      "use       5017\n",
      "list      4852\n",
      "email     4370\n",
      "get       4187\n",
      "mail      3985\n",
      "one       3905\n",
      "free      3171\n",
      "time      3090\n",
      "work      2880\n",
      "dtype: int64\n"
     ]
    }
   ],
   "source": [
    "frequent_words = unique_words[0:VOCAB_SIZE]\n",
    "print('Most common words: \\n', frequent_words[:10])"
   ]
  },
  {
   "cell_type": "markdown",
   "metadata": {},
   "source": [
    "## Create vocabulary DataFrame with a WORD_ID"
   ]
  },
  {
   "cell_type": "code",
   "execution_count": 46,
   "metadata": {},
   "outputs": [
    {
     "data": {
      "text/html": [
       "<div>\n",
       "<style scoped>\n",
       "    .dataframe tbody tr th:only-of-type {\n",
       "        vertical-align: middle;\n",
       "    }\n",
       "\n",
       "    .dataframe tbody tr th {\n",
       "        vertical-align: top;\n",
       "    }\n",
       "\n",
       "    .dataframe thead th {\n",
       "        text-align: right;\n",
       "    }\n",
       "</style>\n",
       "<table border=\"1\" class=\"dataframe\">\n",
       "  <thead>\n",
       "    <tr style=\"text-align: right;\">\n",
       "      <th></th>\n",
       "      <th>VOCAB_WORD</th>\n",
       "    </tr>\n",
       "    <tr>\n",
       "      <th>WORD_ID</th>\n",
       "      <th></th>\n",
       "    </tr>\n",
       "  </thead>\n",
       "  <tbody>\n",
       "    <tr>\n",
       "      <th>0</th>\n",
       "      <td>http</td>\n",
       "    </tr>\n",
       "    <tr>\n",
       "      <th>1</th>\n",
       "      <td>use</td>\n",
       "    </tr>\n",
       "    <tr>\n",
       "      <th>2</th>\n",
       "      <td>list</td>\n",
       "    </tr>\n",
       "    <tr>\n",
       "      <th>3</th>\n",
       "      <td>email</td>\n",
       "    </tr>\n",
       "    <tr>\n",
       "      <th>4</th>\n",
       "      <td>get</td>\n",
       "    </tr>\n",
       "  </tbody>\n",
       "</table>\n",
       "</div>"
      ],
      "text/plain": [
       "        VOCAB_WORD\n",
       "WORD_ID           \n",
       "0             http\n",
       "1              use\n",
       "2             list\n",
       "3            email\n",
       "4              get"
      ]
     },
     "execution_count": 46,
     "metadata": {},
     "output_type": "execute_result"
    }
   ],
   "source": [
    "word_ids = list(range(0, VOCAB_SIZE))\n",
    "vocab = pd.DataFrame({'VOCAB_WORD' : frequent_words.index.values}, index=word_ids)\n",
    "vocab.index.name = 'WORD_ID'\n",
    "vocab.head()"
   ]
  },
  {
   "cell_type": "code",
   "execution_count": 47,
   "metadata": {},
   "outputs": [],
   "source": [
    "vocab.to_csv(WORD_ID_FILE, index_label=vocab.index.name, header=vocab.VOCAB_WORD.name)"
   ]
  },
  {
   "cell_type": "markdown",
   "metadata": {},
   "source": [
    "## Email with most number of words"
   ]
  },
  {
   "cell_type": "code",
   "execution_count": 48,
   "metadata": {},
   "outputs": [
    {
     "name": "stdout",
     "output_type": "stream",
     "text": [
      "Number of words in the longest email: 7671\n"
     ]
    }
   ],
   "source": [
    "clean_email_lengths = [len(sublist) for sublist in stemmed_nested_list]\n",
    "print('Number of words in the longest email:', max(clean_email_lengths))"
   ]
  },
  {
   "cell_type": "markdown",
   "metadata": {},
   "source": [
    "## Generate Features and a Sparse Matrix"
   ]
  },
  {
   "cell_type": "code",
   "execution_count": 49,
   "metadata": {},
   "outputs": [
    {
     "data": {
      "text/plain": [
       "pandas.core.series.Series"
      ]
     },
     "execution_count": 49,
     "metadata": {},
     "output_type": "execute_result"
    }
   ],
   "source": [
    "type(stemmed_nested_list)"
   ]
  },
  {
   "cell_type": "code",
   "execution_count": 50,
   "metadata": {},
   "outputs": [
    {
     "data": {
      "text/html": [
       "<div>\n",
       "<style scoped>\n",
       "    .dataframe tbody tr th:only-of-type {\n",
       "        vertical-align: middle;\n",
       "    }\n",
       "\n",
       "    .dataframe tbody tr th {\n",
       "        vertical-align: top;\n",
       "    }\n",
       "\n",
       "    .dataframe thead th {\n",
       "        text-align: right;\n",
       "    }\n",
       "</style>\n",
       "<table border=\"1\" class=\"dataframe\">\n",
       "  <thead>\n",
       "    <tr style=\"text-align: right;\">\n",
       "      <th></th>\n",
       "      <th>0</th>\n",
       "      <th>1</th>\n",
       "      <th>2</th>\n",
       "      <th>3</th>\n",
       "      <th>4</th>\n",
       "      <th>5</th>\n",
       "      <th>6</th>\n",
       "      <th>7</th>\n",
       "      <th>8</th>\n",
       "      <th>9</th>\n",
       "      <th>...</th>\n",
       "      <th>7661</th>\n",
       "      <th>7662</th>\n",
       "      <th>7663</th>\n",
       "      <th>7664</th>\n",
       "      <th>7665</th>\n",
       "      <th>7666</th>\n",
       "      <th>7667</th>\n",
       "      <th>7668</th>\n",
       "      <th>7669</th>\n",
       "      <th>7670</th>\n",
       "    </tr>\n",
       "  </thead>\n",
       "  <tbody>\n",
       "    <tr>\n",
       "      <th>0</th>\n",
       "      <td>request</td>\n",
       "      <td>urgent</td>\n",
       "      <td>busi</td>\n",
       "      <td>assist</td>\n",
       "      <td>contact</td>\n",
       "      <td>avail</td>\n",
       "      <td>chamber</td>\n",
       "      <td>commerc</td>\n",
       "      <td>given</td>\n",
       "      <td>diplomat</td>\n",
       "      <td>...</td>\n",
       "      <td>None</td>\n",
       "      <td>None</td>\n",
       "      <td>None</td>\n",
       "      <td>None</td>\n",
       "      <td>None</td>\n",
       "      <td>None</td>\n",
       "      <td>None</td>\n",
       "      <td>None</td>\n",
       "      <td>None</td>\n",
       "      <td>None</td>\n",
       "    </tr>\n",
       "    <tr>\n",
       "      <th>1</th>\n",
       "      <td>messag</td>\n",
       "      <td>mime</td>\n",
       "      <td>format</td>\n",
       "      <td>maxim</td>\n",
       "      <td>select</td>\n",
       "      <td>want</td>\n",
       "      <td>pay</td>\n",
       "      <td>less</td>\n",
       "      <td>term</td>\n",
       "      <td>insur</td>\n",
       "      <td>...</td>\n",
       "      <td>None</td>\n",
       "      <td>None</td>\n",
       "      <td>None</td>\n",
       "      <td>None</td>\n",
       "      <td>None</td>\n",
       "      <td>None</td>\n",
       "      <td>None</td>\n",
       "      <td>None</td>\n",
       "      <td>None</td>\n",
       "      <td>None</td>\n",
       "    </tr>\n",
       "    <tr>\n",
       "      <th>2</th>\n",
       "      <td>free</td>\n",
       "      <td>person</td>\n",
       "      <td>busi</td>\n",
       "      <td>grant</td>\n",
       "      <td>qualifi</td>\n",
       "      <td>least</td>\n",
       "      <td>free</td>\n",
       "      <td>grant</td>\n",
       "      <td>money</td>\n",
       "      <td>guarante</td>\n",
       "      <td>...</td>\n",
       "      <td>None</td>\n",
       "      <td>None</td>\n",
       "      <td>None</td>\n",
       "      <td>None</td>\n",
       "      <td>None</td>\n",
       "      <td>None</td>\n",
       "      <td>None</td>\n",
       "      <td>None</td>\n",
       "      <td>None</td>\n",
       "      <td>None</td>\n",
       "    </tr>\n",
       "    <tr>\n",
       "      <th>3</th>\n",
       "      <td>viagra</td>\n",
       "      <td>xenic</td>\n",
       "      <td>vioxx</td>\n",
       "      <td>zyban</td>\n",
       "      <td>propecia</td>\n",
       "      <td>offer</td>\n",
       "      <td>real</td>\n",
       "      <td>viagra</td>\n",
       "      <td>xenic</td>\n",
       "      <td>vioxx</td>\n",
       "      <td>...</td>\n",
       "      <td>None</td>\n",
       "      <td>None</td>\n",
       "      <td>None</td>\n",
       "      <td>None</td>\n",
       "      <td>None</td>\n",
       "      <td>None</td>\n",
       "      <td>None</td>\n",
       "      <td>None</td>\n",
       "      <td>None</td>\n",
       "      <td>None</td>\n",
       "    </tr>\n",
       "    <tr>\n",
       "      <th>4</th>\n",
       "      <td>untitl</td>\n",
       "      <td>attent</td>\n",
       "      <td>must</td>\n",
       "      <td>comput</td>\n",
       "      <td>user</td>\n",
       "      <td>packag</td>\n",
       "      <td>deal</td>\n",
       "      <td>norton</td>\n",
       "      <td>systemwork</td>\n",
       "      <td>oftwar</td>\n",
       "      <td>...</td>\n",
       "      <td>None</td>\n",
       "      <td>None</td>\n",
       "      <td>None</td>\n",
       "      <td>None</td>\n",
       "      <td>None</td>\n",
       "      <td>None</td>\n",
       "      <td>None</td>\n",
       "      <td>None</td>\n",
       "      <td>None</td>\n",
       "      <td>None</td>\n",
       "    </tr>\n",
       "  </tbody>\n",
       "</table>\n",
       "<p>5 rows × 7671 columns</p>\n",
       "</div>"
      ],
      "text/plain": [
       "      0       1       2       3         4       5        6        7     \\\n",
       "0  request  urgent    busi  assist   contact   avail  chamber  commerc   \n",
       "1   messag    mime  format   maxim    select    want      pay     less   \n",
       "2     free  person    busi   grant   qualifi   least     free    grant   \n",
       "3   viagra   xenic   vioxx   zyban  propecia   offer     real   viagra   \n",
       "4   untitl  attent    must  comput      user  packag     deal   norton   \n",
       "\n",
       "         8         9     ...   7661  7662  7663  7664  7665  7666  7667  7668  \\\n",
       "0       given  diplomat  ...   None  None  None  None  None  None  None  None   \n",
       "1        term     insur  ...   None  None  None  None  None  None  None  None   \n",
       "2       money  guarante  ...   None  None  None  None  None  None  None  None   \n",
       "3       xenic     vioxx  ...   None  None  None  None  None  None  None  None   \n",
       "4  systemwork    oftwar  ...   None  None  None  None  None  None  None  None   \n",
       "\n",
       "   7669  7670  \n",
       "0  None  None  \n",
       "1  None  None  \n",
       "2  None  None  \n",
       "3  None  None  \n",
       "4  None  None  \n",
       "\n",
       "[5 rows x 7671 columns]"
      ]
     },
     "execution_count": 50,
     "metadata": {},
     "output_type": "execute_result"
    }
   ],
   "source": [
    "word_columns_df = pd.DataFrame.from_records(stemmed_nested_list.tolist())\n",
    "word_columns_df.head()"
   ]
  },
  {
   "cell_type": "code",
   "execution_count": 51,
   "metadata": {},
   "outputs": [
    {
     "data": {
      "text/plain": [
       "(5796, 7671)"
      ]
     },
     "execution_count": 51,
     "metadata": {},
     "output_type": "execute_result"
    }
   ],
   "source": [
    "word_columns_df.shape"
   ]
  },
  {
   "cell_type": "markdown",
   "metadata": {},
   "source": [
    "## Spilitting the Data into a Training and Testing Dataset"
   ]
  },
  {
   "cell_type": "code",
   "execution_count": 52,
   "metadata": {},
   "outputs": [],
   "source": [
    "X_train, X_test, y_train,y_test = train_test_split(word_columns_df, data.CATEGORY, test_size=0.3, random_state=42)"
   ]
  },
  {
   "cell_type": "code",
   "execution_count": 53,
   "metadata": {},
   "outputs": [
    {
     "data": {
      "text/html": [
       "<div>\n",
       "<style scoped>\n",
       "    .dataframe tbody tr th:only-of-type {\n",
       "        vertical-align: middle;\n",
       "    }\n",
       "\n",
       "    .dataframe tbody tr th {\n",
       "        vertical-align: top;\n",
       "    }\n",
       "\n",
       "    .dataframe thead th {\n",
       "        text-align: right;\n",
       "    }\n",
       "</style>\n",
       "<table border=\"1\" class=\"dataframe\">\n",
       "  <thead>\n",
       "    <tr style=\"text-align: right;\">\n",
       "      <th></th>\n",
       "      <th>0</th>\n",
       "      <th>1</th>\n",
       "      <th>2</th>\n",
       "      <th>3</th>\n",
       "      <th>4</th>\n",
       "      <th>5</th>\n",
       "      <th>6</th>\n",
       "      <th>7</th>\n",
       "      <th>8</th>\n",
       "      <th>9</th>\n",
       "      <th>...</th>\n",
       "      <th>7661</th>\n",
       "      <th>7662</th>\n",
       "      <th>7663</th>\n",
       "      <th>7664</th>\n",
       "      <th>7665</th>\n",
       "      <th>7666</th>\n",
       "      <th>7667</th>\n",
       "      <th>7668</th>\n",
       "      <th>7669</th>\n",
       "      <th>7670</th>\n",
       "    </tr>\n",
       "    <tr>\n",
       "      <th>DOC_ID</th>\n",
       "      <th></th>\n",
       "      <th></th>\n",
       "      <th></th>\n",
       "      <th></th>\n",
       "      <th></th>\n",
       "      <th></th>\n",
       "      <th></th>\n",
       "      <th></th>\n",
       "      <th></th>\n",
       "      <th></th>\n",
       "      <th></th>\n",
       "      <th></th>\n",
       "      <th></th>\n",
       "      <th></th>\n",
       "      <th></th>\n",
       "      <th></th>\n",
       "      <th></th>\n",
       "      <th></th>\n",
       "      <th></th>\n",
       "      <th></th>\n",
       "      <th></th>\n",
       "    </tr>\n",
       "  </thead>\n",
       "  <tbody>\n",
       "    <tr>\n",
       "      <th>4844</th>\n",
       "      <td>hi</td>\n",
       "      <td>look</td>\n",
       "      <td>get</td>\n",
       "      <td>hand</td>\n",
       "      <td>either</td>\n",
       "      <td>doom</td>\n",
       "      <td>ii</td>\n",
       "      <td>pc</td>\n",
       "      <td>unfortun</td>\n",
       "      <td>access</td>\n",
       "      <td>...</td>\n",
       "      <td>None</td>\n",
       "      <td>None</td>\n",
       "      <td>None</td>\n",
       "      <td>None</td>\n",
       "      <td>None</td>\n",
       "      <td>None</td>\n",
       "      <td>None</td>\n",
       "      <td>None</td>\n",
       "      <td>None</td>\n",
       "      <td>None</td>\n",
       "    </tr>\n",
       "    <tr>\n",
       "      <th>4727</th>\n",
       "      <td>get</td>\n",
       "      <td>hope</td>\n",
       "      <td>career</td>\n",
       "      <td>move</td>\n",
       "      <td>next</td>\n",
       "      <td>stop</td>\n",
       "      <td>hollywood</td>\n",
       "      <td>rememb</td>\n",
       "      <td>madonna</td>\n",
       "      <td>actress</td>\n",
       "      <td>...</td>\n",
       "      <td>None</td>\n",
       "      <td>None</td>\n",
       "      <td>None</td>\n",
       "      <td>None</td>\n",
       "      <td>None</td>\n",
       "      <td>None</td>\n",
       "      <td>None</td>\n",
       "      <td>None</td>\n",
       "      <td>None</td>\n",
       "      <td>None</td>\n",
       "    </tr>\n",
       "    <tr>\n",
       "      <th>5022</th>\n",
       "      <td>server</td>\n",
       "      <td>bug</td>\n",
       "      <td>backup</td>\n",
       "      <td>discoveri</td>\n",
       "      <td>server</td>\n",
       "      <td>fix</td>\n",
       "      <td>cheer</td>\n",
       "      <td>chad</td>\n",
       "      <td>scott</td>\n",
       "      <td>augustu</td>\n",
       "      <td>...</td>\n",
       "      <td>None</td>\n",
       "      <td>None</td>\n",
       "      <td>None</td>\n",
       "      <td>None</td>\n",
       "      <td>None</td>\n",
       "      <td>None</td>\n",
       "      <td>None</td>\n",
       "      <td>None</td>\n",
       "      <td>None</td>\n",
       "      <td>None</td>\n",
       "    </tr>\n",
       "    <tr>\n",
       "      <th>3504</th>\n",
       "      <td>permiss</td>\n",
       "      <td>issu</td>\n",
       "      <td>razor</td>\n",
       "      <td>log</td>\n",
       "      <td>file</td>\n",
       "      <td>spamassassin</td>\n",
       "      <td>run</td>\n",
       "      <td>setuid</td>\n",
       "      <td>user</td>\n",
       "      <td>mail</td>\n",
       "      <td>...</td>\n",
       "      <td>None</td>\n",
       "      <td>None</td>\n",
       "      <td>None</td>\n",
       "      <td>None</td>\n",
       "      <td>None</td>\n",
       "      <td>None</td>\n",
       "      <td>None</td>\n",
       "      <td>None</td>\n",
       "      <td>None</td>\n",
       "      <td>None</td>\n",
       "    </tr>\n",
       "    <tr>\n",
       "      <th>3921</th>\n",
       "      <td>pgp</td>\n",
       "      <td>sign</td>\n",
       "      <td>messag</td>\n",
       "      <td>vincent</td>\n",
       "      <td>cunniff</td>\n",
       "      <td>wrote</td>\n",
       "      <td>justin</td>\n",
       "      <td>maccarthi</td>\n",
       "      <td>wrote</td>\n",
       "      <td>think</td>\n",
       "      <td>...</td>\n",
       "      <td>None</td>\n",
       "      <td>None</td>\n",
       "      <td>None</td>\n",
       "      <td>None</td>\n",
       "      <td>None</td>\n",
       "      <td>None</td>\n",
       "      <td>None</td>\n",
       "      <td>None</td>\n",
       "      <td>None</td>\n",
       "      <td>None</td>\n",
       "    </tr>\n",
       "  </tbody>\n",
       "</table>\n",
       "<p>5 rows × 7671 columns</p>\n",
       "</div>"
      ],
      "text/plain": [
       "           0     1       2          3        4             5          6     \\\n",
       "DOC_ID                                                                       \n",
       "4844         hi  look     get       hand   either          doom         ii   \n",
       "4727        get  hope  career       move     next          stop  hollywood   \n",
       "5022     server   bug  backup  discoveri   server           fix      cheer   \n",
       "3504    permiss  issu   razor        log     file  spamassassin        run   \n",
       "3921        pgp  sign  messag    vincent  cunniff         wrote     justin   \n",
       "\n",
       "             7         8        9     ...   7661  7662  7663  7664  7665  \\\n",
       "DOC_ID                                ...                                  \n",
       "4844           pc  unfortun   access  ...   None  None  None  None  None   \n",
       "4727       rememb   madonna  actress  ...   None  None  None  None  None   \n",
       "5022         chad     scott  augustu  ...   None  None  None  None  None   \n",
       "3504       setuid      user     mail  ...   None  None  None  None  None   \n",
       "3921    maccarthi     wrote    think  ...   None  None  None  None  None   \n",
       "\n",
       "        7666  7667  7668  7669  7670  \n",
       "DOC_ID                                \n",
       "4844    None  None  None  None  None  \n",
       "4727    None  None  None  None  None  \n",
       "5022    None  None  None  None  None  \n",
       "3504    None  None  None  None  None  \n",
       "3921    None  None  None  None  None  \n",
       "\n",
       "[5 rows x 7671 columns]"
      ]
     },
     "execution_count": 53,
     "metadata": {},
     "output_type": "execute_result"
    }
   ],
   "source": [
    "X_train.index.name = X_test.index.name = 'DOC_ID'\n",
    "X_train.head()"
   ]
  },
  {
   "cell_type": "code",
   "execution_count": 54,
   "metadata": {},
   "outputs": [
    {
     "data": {
      "text/plain": [
       "DOC_ID\n",
       "4844    0\n",
       "4727    0\n",
       "5022    0\n",
       "3504    0\n",
       "3921    0\n",
       "Name: CATEGORY, dtype: int64"
      ]
     },
     "execution_count": 54,
     "metadata": {},
     "output_type": "execute_result"
    }
   ],
   "source": [
    "y_train.head()"
   ]
  },
  {
   "cell_type": "markdown",
   "metadata": {},
   "source": [
    "## Create a Sparse Matrix for the training data"
   ]
  },
  {
   "cell_type": "code",
   "execution_count": 55,
   "metadata": {},
   "outputs": [
    {
     "data": {
      "text/plain": [
       "Index(['http', 'use', 'list', 'email', 'get', 'mail', 'one', 'free', 'time',\n",
       "       'work',\n",
       "       ...\n",
       "       'milter', 'trader', 'council', 'advisor', 'mutual', 'burner', 'maxaman',\n",
       "       'bullet', 'subsequ', 'decreas'],\n",
       "      dtype='object', name='VOCAB_WORD', length=2500)"
      ]
     },
     "execution_count": 55,
     "metadata": {},
     "output_type": "execute_result"
    }
   ],
   "source": [
    "word_index = pd.Index(vocab.VOCAB_WORD)\n",
    "word_index"
   ]
  },
  {
   "cell_type": "code",
   "execution_count": 56,
   "metadata": {},
   "outputs": [],
   "source": [
    "def make_sparse_matrix(df, indexed_words, labels):\n",
    "    \"\"\"\n",
    "    Returns sparse matrix as dataframe.\n",
    "    \n",
    "    df: A dataframe with words in the columns with a document id as an index (X_train or X_test)\n",
    "    indexed_words: index of words ordered by word_id\n",
    "    labels: category as a series (y_train or y_test)\n",
    "    \"\"\"\n",
    "    \n",
    "    nr_rows = df.shape[0]\n",
    "    nr_cols = df.shape[1]\n",
    "    word_set = set(indexed_words)\n",
    "    dict_list = []\n",
    "    \n",
    "    for i in range(nr_rows):\n",
    "        for j in range(nr_cols):\n",
    "            \n",
    "            word = df.iat[i,j]\n",
    "            if word in word_set:\n",
    "                doc_id = df.index[i]\n",
    "                word_id = indexed_words.get_loc(word)\n",
    "                category = labels.at[doc_id]\n",
    "                \n",
    "                item = {'LABEL': category, 'DOC_ID': doc_id,\n",
    "                       'OCCURENCE' : 1, 'WORD_ID' : word_id}\n",
    "                \n",
    "                dict_list.append(item)\n",
    "                \n",
    "    return pd.DataFrame(dict_list)"
   ]
  },
  {
   "cell_type": "code",
   "execution_count": 57,
   "metadata": {},
   "outputs": [
    {
     "name": "stdout",
     "output_type": "stream",
     "text": [
      "CPU times: user 3min 24s, sys: 212 ms, total: 3min 24s\n",
      "Wall time: 3min 24s\n"
     ]
    }
   ],
   "source": [
    "%%time\n",
    "sparse_train_df = make_sparse_matrix(X_train, word_index, y_train)"
   ]
  },
  {
   "cell_type": "code",
   "execution_count": 58,
   "metadata": {},
   "outputs": [
    {
     "data": {
      "text/html": [
       "<div>\n",
       "<style scoped>\n",
       "    .dataframe tbody tr th:only-of-type {\n",
       "        vertical-align: middle;\n",
       "    }\n",
       "\n",
       "    .dataframe tbody tr th {\n",
       "        vertical-align: top;\n",
       "    }\n",
       "\n",
       "    .dataframe thead th {\n",
       "        text-align: right;\n",
       "    }\n",
       "</style>\n",
       "<table border=\"1\" class=\"dataframe\">\n",
       "  <thead>\n",
       "    <tr style=\"text-align: right;\">\n",
       "      <th></th>\n",
       "      <th>DOC_ID</th>\n",
       "      <th>LABEL</th>\n",
       "      <th>OCCURENCE</th>\n",
       "      <th>WORD_ID</th>\n",
       "    </tr>\n",
       "  </thead>\n",
       "  <tbody>\n",
       "    <tr>\n",
       "      <th>0</th>\n",
       "      <td>4844</td>\n",
       "      <td>0</td>\n",
       "      <td>1</td>\n",
       "      <td>531</td>\n",
       "    </tr>\n",
       "    <tr>\n",
       "      <th>1</th>\n",
       "      <td>4844</td>\n",
       "      <td>0</td>\n",
       "      <td>1</td>\n",
       "      <td>40</td>\n",
       "    </tr>\n",
       "    <tr>\n",
       "      <th>2</th>\n",
       "      <td>4844</td>\n",
       "      <td>0</td>\n",
       "      <td>1</td>\n",
       "      <td>4</td>\n",
       "    </tr>\n",
       "    <tr>\n",
       "      <th>3</th>\n",
       "      <td>4844</td>\n",
       "      <td>0</td>\n",
       "      <td>1</td>\n",
       "      <td>443</td>\n",
       "    </tr>\n",
       "    <tr>\n",
       "      <th>4</th>\n",
       "      <td>4844</td>\n",
       "      <td>0</td>\n",
       "      <td>1</td>\n",
       "      <td>431</td>\n",
       "    </tr>\n",
       "  </tbody>\n",
       "</table>\n",
       "</div>"
      ],
      "text/plain": [
       "   DOC_ID  LABEL  OCCURENCE  WORD_ID\n",
       "0    4844      0          1      531\n",
       "1    4844      0          1       40\n",
       "2    4844      0          1        4\n",
       "3    4844      0          1      443\n",
       "4    4844      0          1      431"
      ]
     },
     "execution_count": 58,
     "metadata": {},
     "output_type": "execute_result"
    }
   ],
   "source": [
    "sparse_train_df[:5]"
   ]
  },
  {
   "cell_type": "code",
   "execution_count": 59,
   "metadata": {},
   "outputs": [
    {
     "data": {
      "text/plain": [
       "(426844, 4)"
      ]
     },
     "execution_count": 59,
     "metadata": {},
     "output_type": "execute_result"
    }
   ],
   "source": [
    "sparse_train_df.shape"
   ]
  },
  {
   "cell_type": "markdown",
   "metadata": {},
   "source": [
    "### Combining Occurences with the Pandas groupby() Method"
   ]
  },
  {
   "cell_type": "code",
   "execution_count": 60,
   "metadata": {},
   "outputs": [
    {
     "data": {
      "text/html": [
       "<div>\n",
       "<style scoped>\n",
       "    .dataframe tbody tr th:only-of-type {\n",
       "        vertical-align: middle;\n",
       "    }\n",
       "\n",
       "    .dataframe tbody tr th {\n",
       "        vertical-align: top;\n",
       "    }\n",
       "\n",
       "    .dataframe thead th {\n",
       "        text-align: right;\n",
       "    }\n",
       "</style>\n",
       "<table border=\"1\" class=\"dataframe\">\n",
       "  <thead>\n",
       "    <tr style=\"text-align: right;\">\n",
       "      <th></th>\n",
       "      <th></th>\n",
       "      <th></th>\n",
       "      <th>OCCURENCE</th>\n",
       "    </tr>\n",
       "    <tr>\n",
       "      <th>DOC_ID</th>\n",
       "      <th>WORD_ID</th>\n",
       "      <th>LABEL</th>\n",
       "      <th></th>\n",
       "    </tr>\n",
       "  </thead>\n",
       "  <tbody>\n",
       "    <tr>\n",
       "      <th rowspan=\"5\" valign=\"top\">0</th>\n",
       "      <th>0</th>\n",
       "      <th>1</th>\n",
       "      <td>1</td>\n",
       "    </tr>\n",
       "    <tr>\n",
       "      <th>1</th>\n",
       "      <th>1</th>\n",
       "      <td>1</td>\n",
       "    </tr>\n",
       "    <tr>\n",
       "      <th>2</th>\n",
       "      <th>1</th>\n",
       "      <td>1</td>\n",
       "    </tr>\n",
       "    <tr>\n",
       "      <th>6</th>\n",
       "      <th>1</th>\n",
       "      <td>1</td>\n",
       "    </tr>\n",
       "    <tr>\n",
       "      <th>9</th>\n",
       "      <th>1</th>\n",
       "      <td>1</td>\n",
       "    </tr>\n",
       "  </tbody>\n",
       "</table>\n",
       "</div>"
      ],
      "text/plain": [
       "                      OCCURENCE\n",
       "DOC_ID WORD_ID LABEL           \n",
       "0      0       1              1\n",
       "       1       1              1\n",
       "       2       1              1\n",
       "       6       1              1\n",
       "       9       1              1"
      ]
     },
     "execution_count": 60,
     "metadata": {},
     "output_type": "execute_result"
    }
   ],
   "source": [
    "train_grouped = sparse_train_df.groupby(['DOC_ID', 'WORD_ID', 'LABEL']).sum()\n",
    "train_grouped.head()"
   ]
  },
  {
   "cell_type": "code",
   "execution_count": 61,
   "metadata": {},
   "outputs": [
    {
     "data": {
      "text/html": [
       "<div>\n",
       "<style scoped>\n",
       "    .dataframe tbody tr th:only-of-type {\n",
       "        vertical-align: middle;\n",
       "    }\n",
       "\n",
       "    .dataframe tbody tr th {\n",
       "        vertical-align: top;\n",
       "    }\n",
       "\n",
       "    .dataframe thead th {\n",
       "        text-align: right;\n",
       "    }\n",
       "</style>\n",
       "<table border=\"1\" class=\"dataframe\">\n",
       "  <thead>\n",
       "    <tr style=\"text-align: right;\">\n",
       "      <th></th>\n",
       "      <th>DOC_ID</th>\n",
       "      <th>WORD_ID</th>\n",
       "      <th>LABEL</th>\n",
       "      <th>OCCURENCE</th>\n",
       "    </tr>\n",
       "  </thead>\n",
       "  <tbody>\n",
       "    <tr>\n",
       "      <th>0</th>\n",
       "      <td>0</td>\n",
       "      <td>0</td>\n",
       "      <td>1</td>\n",
       "      <td>1</td>\n",
       "    </tr>\n",
       "    <tr>\n",
       "      <th>1</th>\n",
       "      <td>0</td>\n",
       "      <td>1</td>\n",
       "      <td>1</td>\n",
       "      <td>1</td>\n",
       "    </tr>\n",
       "    <tr>\n",
       "      <th>2</th>\n",
       "      <td>0</td>\n",
       "      <td>2</td>\n",
       "      <td>1</td>\n",
       "      <td>1</td>\n",
       "    </tr>\n",
       "    <tr>\n",
       "      <th>3</th>\n",
       "      <td>0</td>\n",
       "      <td>6</td>\n",
       "      <td>1</td>\n",
       "      <td>1</td>\n",
       "    </tr>\n",
       "    <tr>\n",
       "      <th>4</th>\n",
       "      <td>0</td>\n",
       "      <td>9</td>\n",
       "      <td>1</td>\n",
       "      <td>1</td>\n",
       "    </tr>\n",
       "  </tbody>\n",
       "</table>\n",
       "</div>"
      ],
      "text/plain": [
       "   DOC_ID  WORD_ID  LABEL  OCCURENCE\n",
       "0       0        0      1          1\n",
       "1       0        1      1          1\n",
       "2       0        2      1          1\n",
       "3       0        6      1          1\n",
       "4       0        9      1          1"
      ]
     },
     "execution_count": 61,
     "metadata": {},
     "output_type": "execute_result"
    }
   ],
   "source": [
    "train_grouped = train_grouped.reset_index()\n",
    "train_grouped.head()"
   ]
  },
  {
   "cell_type": "markdown",
   "metadata": {},
   "source": [
    "## Creating Sparse matrix for Test Data"
   ]
  },
  {
   "cell_type": "code",
   "execution_count": 62,
   "metadata": {},
   "outputs": [
    {
     "name": "stdout",
     "output_type": "stream",
     "text": [
      "CPU times: user 1min 27s, sys: 208 ms, total: 1min 27s\n",
      "Wall time: 1min 27s\n"
     ]
    }
   ],
   "source": [
    "%%time\n",
    "sparse_test_df = make_sparse_matrix(X_test, word_index, y_test)"
   ]
  },
  {
   "cell_type": "code",
   "execution_count": 63,
   "metadata": {},
   "outputs": [
    {
     "data": {
      "text/html": [
       "<div>\n",
       "<style scoped>\n",
       "    .dataframe tbody tr th:only-of-type {\n",
       "        vertical-align: middle;\n",
       "    }\n",
       "\n",
       "    .dataframe tbody tr th {\n",
       "        vertical-align: top;\n",
       "    }\n",
       "\n",
       "    .dataframe thead th {\n",
       "        text-align: right;\n",
       "    }\n",
       "</style>\n",
       "<table border=\"1\" class=\"dataframe\">\n",
       "  <thead>\n",
       "    <tr style=\"text-align: right;\">\n",
       "      <th></th>\n",
       "      <th>DOC_ID</th>\n",
       "      <th>WORD_ID</th>\n",
       "      <th>LABEL</th>\n",
       "      <th>OCCURENCE</th>\n",
       "    </tr>\n",
       "  </thead>\n",
       "  <tbody>\n",
       "    <tr>\n",
       "      <th>0</th>\n",
       "      <td>8</td>\n",
       "      <td>0</td>\n",
       "      <td>1</td>\n",
       "      <td>4</td>\n",
       "    </tr>\n",
       "    <tr>\n",
       "      <th>1</th>\n",
       "      <td>8</td>\n",
       "      <td>2</td>\n",
       "      <td>1</td>\n",
       "      <td>1</td>\n",
       "    </tr>\n",
       "    <tr>\n",
       "      <th>2</th>\n",
       "      <td>8</td>\n",
       "      <td>3</td>\n",
       "      <td>1</td>\n",
       "      <td>1</td>\n",
       "    </tr>\n",
       "    <tr>\n",
       "      <th>3</th>\n",
       "      <td>8</td>\n",
       "      <td>5</td>\n",
       "      <td>1</td>\n",
       "      <td>1</td>\n",
       "    </tr>\n",
       "    <tr>\n",
       "      <th>4</th>\n",
       "      <td>8</td>\n",
       "      <td>6</td>\n",
       "      <td>1</td>\n",
       "      <td>1</td>\n",
       "    </tr>\n",
       "  </tbody>\n",
       "</table>\n",
       "</div>"
      ],
      "text/plain": [
       "   DOC_ID  WORD_ID  LABEL  OCCURENCE\n",
       "0       8        0      1          4\n",
       "1       8        2      1          1\n",
       "2       8        3      1          1\n",
       "3       8        5      1          1\n",
       "4       8        6      1          1"
      ]
     },
     "execution_count": 63,
     "metadata": {},
     "output_type": "execute_result"
    }
   ],
   "source": [
    "test_grouped = sparse_test_df.groupby(['DOC_ID', 'WORD_ID','LABEL']).sum().reset_index()\n",
    "test_grouped.head()"
   ]
  },
  {
   "cell_type": "code",
   "execution_count": 64,
   "metadata": {},
   "outputs": [
    {
     "data": {
      "text/plain": [
       "(115650, 4)"
      ]
     },
     "execution_count": 64,
     "metadata": {},
     "output_type": "execute_result"
    }
   ],
   "source": [
    "test_grouped.shape"
   ]
  },
  {
   "cell_type": "code",
   "execution_count": 65,
   "metadata": {},
   "outputs": [],
   "source": [
    "np.savetxt(TRAINING_DATA_FILE, train_grouped, fmt='%d')\n",
    "np.savetxt(TEST_DATA_FILE, test_grouped, fmt='%d')"
   ]
  }
 ],
 "metadata": {
  "kernelspec": {
   "display_name": "Python 3",
   "language": "python",
   "name": "python3"
  },
  "language_info": {
   "codemirror_mode": {
    "name": "ipython",
    "version": 3
   },
   "file_extension": ".py",
   "mimetype": "text/x-python",
   "name": "python",
   "nbconvert_exporter": "python",
   "pygments_lexer": "ipython3",
   "version": "3.7.4"
  }
 },
 "nbformat": 4,
 "nbformat_minor": 1
}
